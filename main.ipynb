{
 "cells": [
  {
   "cell_type": "code",
   "outputs": [],
   "source": [
    "from enum import Enum\n",
    "from fractions import Fraction\n",
    "from math import lcm\n",
    "\n",
    "F = lambda a,b=1: Fraction(a).limit_denominator() / Fraction(b).limit_denominator()\n",
    "LCD = lambda *f: lcm(*[frac.denominator for frac in f])\n",
    "\n",
    "ROUND_PRECISION = 30\n",
    "PRECISION_DISPLAY = 2"
   ],
   "metadata": {
    "id": "ba571965c5bb2a6f",
    "executionInfo": {
     "status": "ok",
     "timestamp": 1725368712048,
     "user_tz": -180,
     "elapsed": 367,
     "user": {
      "displayName": "Alaa",
      "userId": "01777893681248375670"
     }
    },
    "ExecuteTime": {
     "end_time": "2024-09-09T18:31:19.961174600Z",
     "start_time": "2024-09-09T18:31:19.208484600Z"
    }
   },
   "id": "ba571965c5bb2a6f",
   "execution_count": 1181
  },
  {
   "cell_type": "markdown",
   "source": [
    "# Classes"
   ],
   "metadata": {
    "collapsed": false
   },
   "id": "1a6ca73b47921bfd"
  },
  {
   "cell_type": "markdown",
   "source": [
    "### Ceilings"
   ],
   "metadata": {
    "collapsed": false
   },
   "id": "3db9a2f1a47e4e3a"
  },
  {
   "cell_type": "code",
   "outputs": [],
   "source": [
    "class Ceiling:\n",
    "    # eligible for RADD\n",
    "    ONE_SISTER = F(1,2)\n",
    "    TWO_SISTERS = F(2,3)\n",
    "    BROTHER = F(1,1)\n",
    "    MOTHER = F(1,2)\n",
    "    \n",
    "    # ?\n",
    "    THREE_OR_MORE_SISTERS = F(1,1)\n",
    "    \n",
    "    # not eligible for RADD\n",
    "    SON = F(1,1)\n",
    "    NON_SOLE_DAUGHTER = F(1,1)\n",
    "    FATHER = F(1,1)\n",
    "    SOLE_DAUGHTER = F(1,2)"
   ],
   "metadata": {
    "collapsed": false,
    "ExecuteTime": {
     "end_time": "2024-09-09T18:31:20.027147600Z",
     "start_time": "2024-09-09T18:31:19.941264300Z"
    }
   },
   "id": "2078b3673aaba2",
   "execution_count": 1182
  },
  {
   "cell_type": "markdown",
   "source": [
    "## Heirs"
   ],
   "metadata": {
    "collapsed": false
   },
   "id": "a1cc7c0dd9a3464f"
  },
  {
   "cell_type": "code",
   "execution_count": 1183,
   "id": "initial_id",
   "metadata": {
    "collapsed": true,
    "id": "initial_id",
    "executionInfo": {
     "status": "ok",
     "timestamp": 1725368713737,
     "user_tz": -180,
     "elapsed": 820,
     "user": {
      "displayName": "Alaa",
      "userId": "01777893681248375670"
     }
    },
    "ExecuteTime": {
     "end_time": "2024-09-09T18:31:20.056822300Z",
     "start_time": "2024-09-09T18:31:20.019354200Z"
    }
   },
   "outputs": [],
   "source": [
    "class Heirs:\n",
    "    def __init__(self, husband:bool=False, wife:bool=False, son:int=0, daughter:int=0, brother:int=0, sister:int=0, father:bool=False, mother:bool=False, relatives:int=0):\n",
    "        self.husband = husband\n",
    "        self.wife = wife\n",
    "        self.son = son\n",
    "        self.daughter = daughter\n",
    "        self.brother = brother\n",
    "        self.sister = sister\n",
    "        self.father = father\n",
    "        self.mother = mother\n",
    "        self.relatives = relatives\n",
    "        assert not (husband and wife), \"Husband and wife cannot co-exist\"\n",
    "    \n",
    "    @property\n",
    "    def siblings(self):\n",
    "        return self.brother + self.sister\n",
    "    \n",
    "    def is_multi_siblings(self):\n",
    "        # TODO: i think (siblings > 2) is wrong, and should be (brother > 0 and sister > 0)\n",
    "        # TODO: Also why > 1 and not > 0?\n",
    "        return self.sister > 1 or self.brother > 1 or (self.siblings > 2)\n",
    "    \n",
    "    @property\n",
    "    def children(self):\n",
    "        return self.son + self.daughter\n",
    "    \n",
    "    @property\n",
    "    def spouse(self) -> bool:\n",
    "        return self.husband or self.wife\n",
    "    \n",
    "    @property\n",
    "    def adults(self):\n",
    "        return self.husband + self.wife + self.father + self.mother\n",
    "    \n",
    "    @property\n",
    "    def parents(self) -> bool:\n",
    "        return self.father or self.mother\n",
    "\n",
    "    def __repr__(self):\n",
    "        return f\"husband: {self.husband}, wife: {self.wife}, son: {self.son}, daughter: {self.daughter}, brother: {self.brother}, sister: {self.sister}, father: {self.father}, mother: {self.mother}, relatives: {self.relatives}\""
   ]
  },
  {
   "cell_type": "markdown",
   "source": [
    "## Shares"
   ],
   "metadata": {
    "collapsed": false
   },
   "id": "1ea8a495daf10399"
  },
  {
   "cell_type": "code",
   "outputs": [],
   "source": [
    "class Shares:\n",
    "    def __init__(self):\n",
    "        self.husband = 0\n",
    "        self.wife = 0\n",
    "        self.son = 0\n",
    "        self.daughter = 0\n",
    "        self.brother = 0\n",
    "        self.sister = 0\n",
    "        self.father = 0\n",
    "        self.mother = 0\n",
    "        self.relatives = 0\n",
    "        self.total_radd = 0\n",
    "        \n",
    "    @property\n",
    "    def spouse(self):\n",
    "        return self.husband + self.wife\n",
    "\n",
    "    def get_dict(self):\n",
    "        return {\"husband\": self.husband, \"wife\": self.wife, \"son\": self.son, \"daughter\": self.daughter, \"brother\": self.brother, \"sister\": self.sister, \"father\": self.father, \"mother\": self.mother, \"relatives\": self.relatives}\n",
    "\n",
    "    def total(self, with_radd=True):\n",
    "        return self.husband + self.wife + self.son + self.daughter + self.brother + self.sister + self.father + self.mother + self.relatives + (self.total_radd if with_radd else 0)\n",
    "\n",
    "    def remaining(self, with_radd=True):\n",
    "        return 1 - self.total(with_radd=with_radd)\n",
    "\n",
    "    def __repr__(self):\n",
    "        return f\"husband: {self.husband}, wife: {self.wife}, sons: {self.son}, daughter: {self.daughter}, brothers: {self.brother}, sisters: {self.sister}, father: {self.father}, mother: {self.mother}, relatives: {self.relatives}, Radd: {self.total_radd}\""
   ],
   "metadata": {
    "id": "cc76d843d3d83b5d",
    "executionInfo": {
     "status": "ok",
     "timestamp": 1725368713737,
     "user_tz": -180,
     "elapsed": 26,
     "user": {
      "displayName": "Alaa",
      "userId": "01777893681248375670"
     }
    },
    "ExecuteTime": {
     "end_time": "2024-09-09T18:31:20.171976700Z",
     "start_time": "2024-09-09T18:31:20.062348Z"
    }
   },
   "id": "cc76d843d3d83b5d",
   "execution_count": 1184
  },
  {
   "cell_type": "markdown",
   "source": [
    "## Amounts"
   ],
   "metadata": {
    "collapsed": false
   },
   "id": "b6c0b7b507f13a56"
  },
  {
   "cell_type": "code",
   "outputs": [],
   "source": [
    "class Amounts:\n",
    "    def __init__(self, heirs: Heirs, estate=24, amounts=None):\n",
    "        self._heirs = heirs\n",
    "        self._shares, self._radd = calculate_shares(heirs, estate=estate)\n",
    "        self._estate = F(estate)\n",
    "        if amounts is None:\n",
    "            self._amounts = shares_to_amounts(self._shares, estate=estate)\n",
    "        else:\n",
    "            # TODO: For unittest\n",
    "            self._amounts = amounts\n",
    "            \n",
    "    @property\n",
    "    def estate(self):\n",
    "        return self._estate\n",
    "    \n",
    "    def sum_amounts(self, with_radd=True):\n",
    "        amounts = self._amounts\n",
    "        return round(float(amounts.husband + amounts.wife + amounts.son + amounts.daughter + amounts.brother + amounts.sister + amounts.father + amounts.mother + amounts.relatives + (self._radd.total_radd if with_radd else 0)), ROUND_PRECISION)\n",
    "    \n",
    "    def remaining(self, with_radd=True):\n",
    "        return self.estate - self.sum_amounts(with_radd=with_radd) - (self._radd.total() if with_radd else 0)\n",
    "    \n",
    "    def sum_shares(self):\n",
    "        return self._shares.total()\n",
    "    \n",
    "    def one_heir_f_amount(self, heir_name):\n",
    "        heirs_num = getattr(self._heirs, heir_name)\n",
    "        return self.get_float_amount((getattr(self._amounts, heir_name) / heirs_num) if heirs_num > 0 else 0)\n",
    "    \n",
    "    def get_fraction(self, amount):\n",
    "        try:\n",
    "            return F(amount, self.estate)\n",
    "        except TypeError:\n",
    "            raise TypeError(f\"F({amount},{self.estate})\")\n",
    "        # rounded_estate = round(self.estate)\n",
    "        # rounded_amount = round(amount)\n",
    "        # return F(rounded_amount, rounded_estate) if rounded_estate > 0 else 0\n",
    "    \n",
    "    def get_float_amount(self, amount):\n",
    "        return float(amount)\n",
    "        \n",
    "    def __repr__(self):\n",
    "        amounts = self._amounts\n",
    "        heirs = self._heirs\n",
    "        one_heir_amount = self.one_heir_f_amount\n",
    "        get_fraction = self.get_fraction\n",
    "        f_amount = self.get_float_amount\n",
    "        return f\"husband ({get_fraction(amounts.husband)}): {f_amount(amounts.husband):.{PRECISION_DISPLAY}f} (+{float(self._radd.husband):.{PRECISION_DISPLAY}f}), wife ({get_fraction(amounts.wife)}): {f_amount(amounts.wife):.{PRECISION_DISPLAY}f} (+{float(self._radd.wife):.{PRECISION_DISPLAY}f}), sons ({get_fraction(amounts.son)}): {heirs.son}x{one_heir_amount('son'):.{PRECISION_DISPLAY}f}, daughters ({get_fraction(amounts.daughter)}): {heirs.daughter}x{one_heir_amount('daughter'):.{PRECISION_DISPLAY}f} (+{float(self._radd.daughter):.{PRECISION_DISPLAY}f}), brothers ({get_fraction(amounts.brother)}): {heirs.brother}x{one_heir_amount('brother'):.{PRECISION_DISPLAY}f} (+{float(self._radd.brother):.{PRECISION_DISPLAY}f}), sisters ({get_fraction(amounts.sister)}): {heirs.sister}x{one_heir_amount('sister'):.{PRECISION_DISPLAY}f} (+{float(self._radd.sister):.{PRECISION_DISPLAY}f}), father ({get_fraction(amounts.father)}): {f_amount(amounts.father):.{PRECISION_DISPLAY}f}, mother ({get_fraction(amounts.mother)}): {f_amount(amounts.mother):.{PRECISION_DISPLAY}f} (+{float(self._radd.mother):.{PRECISION_DISPLAY}f}), relatives: {heirs.relatives}x{one_heir_amount('relatives'):.{PRECISION_DISPLAY}f}\""
   ],
   "metadata": {
    "collapsed": false,
    "ExecuteTime": {
     "end_time": "2024-09-09T18:31:20.254215200Z",
     "start_time": "2024-09-09T18:31:20.164611200Z"
    }
   },
   "id": "ffde5fb2fa0b03b5",
   "execution_count": 1185
  },
  {
   "cell_type": "markdown",
   "source": [
    "## Cases"
   ],
   "metadata": {
    "collapsed": false
   },
   "id": "b87ffa89e114fc8e"
  },
  {
   "cell_type": "code",
   "outputs": [],
   "source": [
    "class Case(Enum):\n",
    "    GENERAL_CASE = 'general case'\n",
    "    ADULTS_CASE = 'adults case'\n",
    "    MINOR_KALALA_CASE = 'minor kalala case'\n",
    "    MAJOR_KALALA_CASE = 'major kalala case'"
   ],
   "metadata": {
    "id": "cdc99eddbc7529c9",
    "executionInfo": {
     "status": "ok",
     "timestamp": 1725368713737,
     "user_tz": -180,
     "elapsed": 26,
     "user": {
      "displayName": "Alaa",
      "userId": "01777893681248375670"
     }
    },
    "ExecuteTime": {
     "end_time": "2024-09-09T18:31:20.299523900Z",
     "start_time": "2024-09-09T18:31:20.210457800Z"
    }
   },
   "id": "cdc99eddbc7529c9",
   "execution_count": 1186
  },
  {
   "cell_type": "markdown",
   "source": [
    "### get_case()"
   ],
   "metadata": {
    "collapsed": false
   },
   "id": "4f4e9a12994b461c"
  },
  {
   "cell_type": "code",
   "outputs": [],
   "source": [
    "def get_case(heirs: Heirs):\n",
    "    if heirs.adults + heirs.children == 0:\n",
    "        return Case.MAJOR_KALALA_CASE\n",
    "    if (heirs.son > 0) or (heirs.daughter > 0 and heirs.adults > 0):\n",
    "        return Case.GENERAL_CASE\n",
    "    if (heirs.adults == 0) and (heirs.daughter > 0):\n",
    "        return Case.MINOR_KALALA_CASE\n",
    "    if (heirs.adults > 0) and (heirs.children == 0):\n",
    "        return Case.ADULTS_CASE\n",
    "    return Case.MAJOR_KALALA_CASE"
   ],
   "metadata": {
    "id": "827bb83bfe74f401",
    "executionInfo": {
     "status": "ok",
     "timestamp": 1725368713737,
     "user_tz": -180,
     "elapsed": 25,
     "user": {
      "displayName": "Alaa",
      "userId": "01777893681248375670"
     }
    },
    "ExecuteTime": {
     "end_time": "2024-09-09T18:31:20.395119700Z",
     "start_time": "2024-09-09T18:31:20.289650100Z"
    }
   },
   "id": "827bb83bfe74f401",
   "execution_count": 1187
  },
  {
   "cell_type": "markdown",
   "source": [
    "# Examples"
   ],
   "metadata": {
    "collapsed": false
   },
   "id": "a7c572a098d100fb"
  },
  {
   "cell_type": "code",
   "outputs": [],
   "source": [
    "general1 = Heirs(daughter=3, brother=2, sister=1, father=True)\n",
    "assert get_case(general1) == Case.GENERAL_CASE, get_case(general1)\n",
    "\n",
    "general2 = Heirs(daughter=3, brother=2, sister=1, mother=True, husband=True)\n",
    "assert get_case(general2) == Case.GENERAL_CASE, get_case(general2)\n",
    "\n",
    "general3 = Heirs(son=3, brother=2, sister=1, mother=True, husband=True)\n",
    "assert get_case(general3) == Case.GENERAL_CASE, get_case(general3)\n",
    "\n",
    "general4 = Heirs(son=2, daughter=1, brother=2, sister=1, mother=True, husband=True)\n",
    "assert get_case(general4) == Case.GENERAL_CASE, get_case(general4)\n",
    "\n",
    "general5 = Heirs(daughter=1, brother=2, sister=1, mother=True, husband=True)\n",
    "assert get_case(general5) == Case.GENERAL_CASE, get_case(general5)\n",
    "\n",
    "adults1 = Heirs(husband=True, father=True, brother=2, sister=1)\n",
    "assert get_case(adults1) == Case.ADULTS_CASE, get_case(adults1)\n",
    "\n",
    "adults2 = Heirs(husband=True, mother=True, brother=2, sister=1)\n",
    "assert get_case(adults2) == Case.ADULTS_CASE, get_case(adults2)\n",
    "\n",
    "adults3 = Heirs(wife=True, sister=1, brother=2)\n",
    "assert get_case(adults3) == Case.ADULTS_CASE, get_case(adults3)\n",
    "\n",
    "adults4 = Heirs(wife=True, sister=1, relatives=1)\n",
    "assert get_case(adults4) == Case.ADULTS_CASE, get_case(adults4)\n",
    "\n",
    "adults5 = Heirs(wife=True, sister=1, brother=1, relatives=1)\n",
    "assert get_case(adults5) == Case.ADULTS_CASE, get_case(adults5)\n",
    "\n",
    "minor_kalala_1 = Heirs(daughter=1)\n",
    "assert get_case(minor_kalala_1) == Case.MINOR_KALALA_CASE, get_case(minor_kalala_1)\n",
    "\n",
    "minor_kalala_2 = Heirs(daughter=3, brother=2, sister=1)\n",
    "assert get_case(minor_kalala_2) == Case.MINOR_KALALA_CASE, get_case(minor_kalala_2)\n",
    "\n",
    "minor_kalala_3 = Heirs(daughter=3, relatives=1)\n",
    "assert get_case(minor_kalala_3) == Case.MINOR_KALALA_CASE, get_case(minor_kalala_3)\n",
    "\n",
    "minor_kalala_4 = Heirs(daughter=1, relatives=1)\n",
    "assert get_case(minor_kalala_4) == Case.MINOR_KALALA_CASE, get_case(minor_kalala_4)\n",
    "\n",
    "major_kalala_1 = Heirs(brother=1)\n",
    "assert get_case(major_kalala_1) == Case.MAJOR_KALALA_CASE, get_case(major_kalala_1)\n",
    "\n",
    "major_kalala_2 = Heirs(brother=1, sister=1, relatives=1)\n",
    "assert get_case(major_kalala_2) == Case.MAJOR_KALALA_CASE, get_case(major_kalala_2)\n",
    "\n",
    "major_kalala_3 = Heirs(sister=1, relatives=1)\n",
    "assert get_case(major_kalala_3) == Case.MAJOR_KALALA_CASE, get_case(major_kalala_3)\n",
    "\n",
    "major_kalala_4 = Heirs(sister=2, relatives=1)\n",
    "assert get_case(major_kalala_4) == Case.MAJOR_KALALA_CASE, get_case(major_kalala_4)\n",
    "\n",
    "major_kalala_5 = Heirs(sister=3)\n",
    "assert get_case(major_kalala_5) == Case.MAJOR_KALALA_CASE, get_case(major_kalala_5)\n",
    "\n",
    "try:\n",
    "    illegal = Heirs(husband=True, wife=True)\n",
    "    assert False, f'assertion failed (should raise illegal): {illegal}'\n",
    "except AssertionError as e:\n",
    "    assert True"
   ],
   "metadata": {
    "id": "61285cde540ebf19",
    "executionInfo": {
     "status": "ok",
     "timestamp": 1725368713738,
     "user_tz": -180,
     "elapsed": 26,
     "user": {
      "displayName": "Alaa",
      "userId": "01777893681248375670"
     }
    },
    "ExecuteTime": {
     "end_time": "2024-09-09T18:31:20.483398700Z",
     "start_time": "2024-09-09T18:31:20.392899500Z"
    }
   },
   "id": "61285cde540ebf19",
   "execution_count": 1188
  },
  {
   "cell_type": "markdown",
   "source": [
    "# Functions"
   ],
   "metadata": {
    "collapsed": false
   },
   "id": "6d1293f174ff5e7b"
  },
  {
   "cell_type": "markdown",
   "source": [
    "## male_twice_as_female()"
   ],
   "metadata": {
    "collapsed": false
   },
   "id": "fea0124e384d01c7"
  },
  {
   "cell_type": "code",
   "source": [
    "def male_twice_as_female(estate, males, females):\n",
    "    # M = 2F\n",
    "    # M*m + F*f = ESTATE\n",
    "    # 2F*m + F*f = ESTATE\n",
    "    # F(2m + f) = ESTATE\n",
    "    # F = ESTATE / (2m+f)\n",
    "    # M = 2F\n",
    "    one_female_share = estate / (2 * males + females)\n",
    "    one_male_share = one_female_share * 2\n",
    "    return one_male_share, one_female_share\n",
    "    # TODO: can we use Fraction here?\n"
   ],
   "metadata": {
    "id": "9lroV2uOqGHQ",
    "executionInfo": {
     "status": "ok",
     "timestamp": 1725368713738,
     "user_tz": -180,
     "elapsed": 25,
     "user": {
      "displayName": "Alaa",
      "userId": "01777893681248375670"
     }
    },
    "ExecuteTime": {
     "end_time": "2024-09-09T18:31:20.512915600Z",
     "start_time": "2024-09-09T18:31:20.411575200Z"
    }
   },
   "id": "9lroV2uOqGHQ",
   "execution_count": 1189,
   "outputs": []
  },
  {
   "cell_type": "markdown",
   "source": [
    "## get_spouse_share()"
   ],
   "metadata": {
    "collapsed": false
   },
   "id": "efe773f787903ce2"
  },
  {
   "cell_type": "code",
   "outputs": [],
   "source": [
    "def get_spouse_share(heirs: Heirs, shares: Shares):\n",
    "    if heirs.husband:  # wife died\n",
    "        if heirs.children == 0:\n",
    "            shares.husband = F(1,2)\n",
    "        else:\n",
    "            shares.husband = F(1,4)\n",
    "    elif heirs.wife:  # husband died\n",
    "        if heirs.children == 0:\n",
    "            shares.wife = F(1,4)\n",
    "        else:\n",
    "            shares.wife = F(1,8)"
   ],
   "metadata": {
    "collapsed": false,
    "ExecuteTime": {
     "end_time": "2024-09-09T18:31:20.561184800Z",
     "start_time": "2024-09-09T18:31:20.495219900Z"
    }
   },
   "id": "6bee147819b63fe1",
   "execution_count": 1190
  },
  {
   "cell_type": "markdown",
   "source": [
    "## get_father_share()"
   ],
   "metadata": {
    "collapsed": false
   },
   "id": "a0cb97c7f1423686"
  },
  {
   "cell_type": "code",
   "outputs": [],
   "source": [
    "def get_father_share(heirs: Heirs, shares: Shares):\n",
    "    if heirs.father:\n",
    "        if heirs.children > 0:\n",
    "            shares.father = F(1,6)\n",
    "        # else rest\n",
    "        # TODO: Check if we can simply calculate the rest and assign it here\n",
    "        elif (heirs.mother and heirs.wife) or (not heirs.mother and heirs.husband):\n",
    "            shares.father = F(1,2)\n",
    "        elif heirs.mother and heirs.husband:\n",
    "            shares.father = F(1,3)\n",
    "        elif heirs.mother and not heirs.spouse:\n",
    "            shares.father = F(2,3)\n",
    "        elif not heirs.mother and heirs.wife:\n",
    "            shares.father = F(3,4)\n",
    "        elif not heirs.mother and not heirs.spouse:\n",
    "            shares.father = 1\n",
    "        else:\n",
    "            shares.father = 0"
   ],
   "metadata": {
    "collapsed": false,
    "ExecuteTime": {
     "end_time": "2024-09-09T18:31:20.662335900Z",
     "start_time": "2024-09-09T18:31:20.552317600Z"
    }
   },
   "id": "e747fc2c6442b812",
   "execution_count": 1191
  },
  {
   "cell_type": "markdown",
   "source": [
    "## get_mother_share()"
   ],
   "metadata": {
    "collapsed": false
   },
   "id": "974366356b6fae74"
  },
  {
   "cell_type": "code",
   "outputs": [],
   "source": [
    "def get_mother_share(heirs: Heirs, shares: Shares):\n",
    "    if heirs.mother:\n",
    "        # is_multi_siblings = heirs.is_multi_siblings()\n",
    "        # mother_radd = 0\n",
    "        if heirs.children:\n",
    "            shares.mother = F(1,6)\n",
    "        elif heirs.father:\n",
    "            shares.mother = (1 - shares.spouse) * (F(1,3))\n",
    "        elif heirs.siblings == 0:\n",
    "            shares.mother = F(1,3)\n",
    "            # RADD 1:\n",
    "            # if heirs.husband or (heirs.wife and heirs.relatives) or (not heirs.spouse and heirs.relatives):\n",
    "            #     shares.mother += F(1,6)\n",
    "            # elif heirs.wife and not heirs.relatives:\n",
    "            #     shares.mother += F(10,24) # TODO: ??\n",
    "            # elif not heirs.spouse and not heirs.relatives:\n",
    "            #     mother_radd += F(2,3)\n",
    "        else:\n",
    "            shares.mother = F(1,6)\n",
    "            # RADD 2\n",
    "            # if (heirs.husband and heirs.siblings < 2) or (heirs.wife and heirs.siblings >= 2):\n",
    "            #     mother_radd += F(2,24)  # TODO ??\n",
    "            # elif heirs.siblings == 1 and not heirs.spouse:\n",
    "            #     mother_radd += F(1,3)\n",
    "            # elif (is_multi_siblings and not heirs.spouse) or (not is_multi_siblings and heirs.brother == 1 and heirs.sister == 1 and not heirs.spouse):\n",
    "            #     mother_radd += F(1,6)\n",
    "        # heirs.mother += mother_radd"
   ],
   "metadata": {
    "collapsed": false,
    "ExecuteTime": {
     "end_time": "2024-09-09T18:31:20.700696800Z",
     "start_time": "2024-09-09T18:31:20.644876600Z"
    }
   },
   "id": "f0fae82c29cfa644",
   "execution_count": 1192
  },
  {
   "cell_type": "markdown",
   "source": [
    "## get_children_share()"
   ],
   "metadata": {
    "collapsed": false
   },
   "id": "a7531b5ad7c3182f"
  },
  {
   "cell_type": "code",
   "outputs": [],
   "source": [
    "def get_children_share(heirs: Heirs, shares: Shares):\n",
    "    rest = shares.remaining()\n",
    "    case = get_case(heirs)\n",
    "    \n",
    "    if heirs.children > 0:\n",
    "        if case == Case.GENERAL_CASE:\n",
    "            if heirs.daughter == 0:  # male only\n",
    "                shares.son = rest\n",
    "            elif heirs.son == 0:  # female only\n",
    "                shares.daughter = rest\n",
    "            else:  # mixed\n",
    "                one_son_share, one_daughter_share = male_twice_as_female(rest, heirs.son, heirs.daughter)\n",
    "                shares.son = one_son_share * heirs.son\n",
    "                shares.daughter = one_daughter_share * heirs.daughter\n",
    "        elif case == Case.MINOR_KALALA_CASE:\n",
    "            if heirs.son == 0 and not heirs.spouse and not heirs.parents:\n",
    "                if heirs.daughter == 1:\n",
    "                    shares.daughter = F(1,2)\n",
    "                elif heirs.daughter >= 2:\n",
    "                    shares.daughter = F(2,3)"
   ],
   "metadata": {
    "collapsed": false,
    "ExecuteTime": {
     "end_time": "2024-09-09T18:31:20.811688Z",
     "start_time": "2024-09-09T18:31:20.689913200Z"
    }
   },
   "id": "702962b1a067a596",
   "execution_count": 1193
  },
  {
   "cell_type": "markdown",
   "source": [
    "## get_children_radd()"
   ],
   "metadata": {
    "collapsed": false
   },
   "id": "a9de5ec25385f860"
  },
  {
   "cell_type": "code",
   "outputs": [],
   "source": [
    "def get_children_radd_deprecated(heirs: Heirs, shares: Shares):\n",
    "    # TODO: Why Radd for children?? I thought only mother and siblings get Radd??\n",
    "    if get_case(heirs) == Case.MINOR_KALALA_CASE and heirs.children > 0:\n",
    "        if heirs.son == 0 and not heirs.parents and not heirs.spouse and heirs.siblings and heirs.relatives == 0:\n",
    "            if heirs.daughter == 1:\n",
    "                shares.daughter = F(1,2)\n",
    "            elif heirs.daughter > 1:\n",
    "                shares.daughter = F(2,3)"
   ],
   "metadata": {
    "collapsed": false,
    "ExecuteTime": {
     "end_time": "2024-09-09T18:31:20.879094200Z",
     "start_time": "2024-09-09T18:31:20.797797100Z"
    }
   },
   "id": "48e787235b369a36",
   "execution_count": 1194
  },
  {
   "cell_type": "markdown",
   "source": [
    "## get_spouse_radd()"
   ],
   "metadata": {
    "collapsed": false
   },
   "id": "20fc706aabbd6b6a"
  },
  {
   "cell_type": "code",
   "outputs": [],
   "source": [
    "def get_spouse_radd_deprecated(heirs: Heirs, shares: Shares):\n",
    "    # TODO: Why Radd for husband / wife?? I thought only mother and siblings get Radd??\n",
    "    \n",
    "    # husband radd\n",
    "    if heirs.husband:\n",
    "        if heirs.siblings + heirs.relatives + heirs.children == 0:\n",
    "            shares.husband += shares.remaining()\n",
    "    \n",
    "    # wife radd\n",
    "    elif heirs.wife:\n",
    "        if not heirs.parents and (heirs.children + heirs.siblings + heirs.relatives == 0):\n",
    "            shares.wife += shares.remaining()"
   ],
   "metadata": {
    "collapsed": false,
    "ExecuteTime": {
     "end_time": "2024-09-09T18:31:20.984419500Z",
     "start_time": "2024-09-09T18:31:20.856305Z"
    }
   },
   "id": "2b39171817a63b56",
   "execution_count": 1195
  },
  {
   "cell_type": "markdown",
   "source": [
    "## get_siblings_share()"
   ],
   "metadata": {
    "collapsed": false
   },
   "id": "84f85eef16de7193"
  },
  {
   "cell_type": "code",
   "outputs": [],
   "source": [
    "def get_siblings_share(heirs: Heirs, shares: Shares):\n",
    "    case = get_case(heirs)\n",
    "    if case in [Case.ADULTS_CASE, Case.GENERAL_CASE]:\n",
    "        # TODO: Looks like no need for general case, and minor and adults cases are the same\n",
    "        if heirs.siblings > 0:\n",
    "            if heirs.brother == 1 and heirs.siblings < 3 and case == Case.ADULTS_CASE and not heirs.father and heirs.son == 0 and (heirs.mother or heirs.spouse):\n",
    "                shares.brother = F(1,6)\n",
    "            if heirs.sister == 1 and heirs.siblings < 3 and case == Case.ADULTS_CASE and not heirs.father and heirs.son == 0 and (heirs.mother or heirs.spouse):\n",
    "                shares.sister = F(1,6)\n",
    "            if heirs.is_multi_siblings() and not heirs.father and not heirs.children:\n",
    "                one_siblings_share = F(1,3) / heirs.siblings\n",
    "                shares.brother = one_siblings_share * heirs.brother\n",
    "                shares.sister = one_siblings_share * heirs.sister\n",
    "    elif case == Case.MINOR_KALALA_CASE:\n",
    "        if not heirs.father:\n",
    "            if heirs.siblings < 3:\n",
    "                if heirs.brother == 1:\n",
    "                    shares.brother = F(1,6)\n",
    "                elif heirs.sister == 1:\n",
    "                    shares.sister = F(1,6)\n",
    "            if heirs.brother > 1 or heirs.sister > 1 or heirs.siblings > 2:\n",
    "                one_siblings_share = F(1,3) / heirs.siblings\n",
    "                shares.brother = one_siblings_share * heirs.brother\n",
    "                shares.sister = one_siblings_share * heirs.sister\n",
    "    elif case == Case.MAJOR_KALALA_CASE:\n",
    "        if heirs.brother == 0 and heirs.children == 0 and heirs.sister in [1,2]:\n",
    "            if heirs.sister == 1: \n",
    "                shares.sister = F(1,2)\n",
    "            elif heirs.sister == 2:\n",
    "                shares.sister = F(2,3)\n",
    "        elif heirs.sister == 0 and heirs.brother == 1 and heirs.children == 0:\n",
    "                shares.brother = 1\n",
    "        elif heirs.brother > 1 or heirs.sister > 2 or (heirs.brother > 0 and heirs.sister > 0):\n",
    "            one_brother_share, one_sister_share = male_twice_as_female(1, heirs.brother, heirs.sister)\n",
    "            shares.brother = one_brother_share * heirs.brother\n",
    "            shares.sister = one_sister_share * heirs.sister"
   ],
   "metadata": {
    "collapsed": false,
    "ExecuteTime": {
     "end_time": "2024-09-09T18:31:21.014466500Z",
     "start_time": "2024-09-09T18:31:20.974956600Z"
    }
   },
   "id": "944fee743c5f60a3",
   "execution_count": 1196
  },
  {
   "cell_type": "markdown",
   "source": [
    "## get_siblings_radd()"
   ],
   "metadata": {
    "collapsed": false
   },
   "id": "945377a51d9f2c5b"
  },
  {
   "cell_type": "code",
   "outputs": [],
   "source": [
    "def get_siblings_radd_deprecated(heirs: Heirs, shares: Shares):\n",
    "    # TODO: What's the data in T15,T16,T17? Corresponding U cells depend on them but ignore their values \n",
    "    if heirs.siblings:\n",
    "        brother_radd = 0\n",
    "        sister_radd = 0\n",
    "        case = get_case(heirs)\n",
    "        if case == Case.ADULTS_CASE:\n",
    "            # brother radd\n",
    "            if heirs.brother == 1 and heirs.siblings < 3 and not heirs.father and not heirs.son and (heirs.mother or heirs.parents):\n",
    "                if (not heirs.sister and heirs.husband and not heirs.mother) or (not heirs.sister and heirs.mother and not heirs.spouse):\n",
    "                    brother_radd = F(8,24)\n",
    "                elif (not heirs.sister and heirs.husband and heirs.mother) or (heirs.wife and heirs.mother and heirs.sister == 1) or (heirs.husband == 1 and heirs.sister ==1 and not heirs.mother):\n",
    "                    brother_radd = F(2,24)  # TODO ??\n",
    "                elif (not heirs.sister and heirs.wife and heirs.mother) or (heirs.wife and not heirs.mother and heirs.sister == 1):\n",
    "                    brother_radd = F(5,24)  # TODO ??\n",
    "                elif not heirs.sister and heirs.wife and not heirs.mother:\n",
    "                    brother_radd = F(14,24)  # TODO: ??\n",
    "                elif heirs.mother and heirs.sister == 1 and not heirs.spouse:\n",
    "                    brother_radd = F(4,24)\n",
    "            # sister radd\n",
    "            if heirs.sister == 1 and heirs.siblings < 3 and not heirs.father and not heirs.son and (heirs.mother or heirs.parents):\n",
    "                if (not heirs.brother and heirs.husband and not heirs.mother) or (not heirs.brother and heirs.mother and not heirs.spouse):\n",
    "                    sister_radd = F(8,24)\n",
    "                elif (not heirs.brother and heirs.husband and heirs.mother) or (heirs.wife and heirs.mother and heirs.brother == 1) or (heirs.husband == 1 and heirs.brother ==1 and not heirs.mother):\n",
    "                    sister_radd = F(2,24)  # TODO ??\n",
    "                elif (not heirs.brother and heirs.wife and heirs.mother) or (heirs.wife and not heirs.mother and heirs.brother == 1):\n",
    "                    sister_radd = F(5,24)  # TODO ??\n",
    "                elif not heirs.brother and heirs.wife and not heirs.mother and heirs.relatives:  # TODO: why relatives important?\n",
    "                    sister_radd = F(8,24)\n",
    "                elif not heirs.brother and heirs.wife and not heirs.mother and not heirs.relatives:\n",
    "                    sister_radd = F(14,24)  # TODO ??\n",
    "                elif heirs.mother and heirs.brother == 1 and not heirs.spouse:\n",
    "                    sister_radd = F(4,24)\n",
    "            # several mixed case\n",
    "            if heirs.is_multi_siblings() and not heirs.father and not heirs.children:\n",
    "                if (heirs.husband and not heirs.mother and not heirs.wife) or (heirs.mother and not heirs.husband and heirs.wife):\n",
    "                    one_sibling_radd = F(4,24) / heirs.siblings  # TODO ??\n",
    "                    brother_radd = one_sibling_radd\n",
    "                    sister_radd = one_sibling_radd\n",
    "                elif (not heirs.mother and not heirs.husband and heirs.wife and (heirs.brother or heirs.sister > 2)) or (not heirs.mother and heirs.sister == 2 and not heirs.relatives):\n",
    "                    one_sibling_radd = F(10,24) / heirs.siblings  # TODO ??\n",
    "                    brother_radd = one_sibling_radd\n",
    "                    sister_radd = one_sibling_radd\n",
    "                elif (not heirs.spouse and heirs.mother) or (not heirs.mother and not heirs.husband and heirs.wife and heirs.sister == 2 and heirs.relatives and not heirs.brother):\n",
    "                    one_sibling_radd = F(8,24) / heirs.siblings\n",
    "                    brother_radd = one_sibling_radd\n",
    "                    sister_radd = one_sibling_radd\n",
    "        elif case == Case.MINOR_KALALA_CASE:\n",
    "            W27 = heirs.brother == 1 and heirs.siblings < 3\n",
    "            V27 = W27 and not heirs.father\n",
    "            W28 = heirs.sister == 1 and heirs.siblings < 3\n",
    "            V28 = W28 and not heirs.father\n",
    "            W29 = heirs.is_multi_siblings()\n",
    "            V29 = W29 and not heirs.father\n",
    "            \n",
    "            # brother radd\n",
    "            if V27 and heirs.daughter < 2:\n",
    "                if not V28:\n",
    "                    brother_radd = F(8,24)\n",
    "                else:\n",
    "                    brother_radd = F(2,24)  # TODO ??\n",
    "            elif V27 and heirs.daughter > 1 and not V28:\n",
    "                brother_radd = F(4,24)\n",
    "            \n",
    "            # sister radd\n",
    "            if V28 and heirs.daughter < 2:\n",
    "                if not V27:\n",
    "                    sister_radd = F(8,24)\n",
    "                else:\n",
    "                    sister_radd = F(2,24)  # TODO ??\n",
    "            elif V28 and heirs.daughter > 1 and not V27:\n",
    "                sister_radd = F(4,24)\n",
    "            \n",
    "            # mixed\n",
    "            if V29 and heirs.daughter < 2:\n",
    "                one_sibling_radd = F(4,24) / heirs.siblings\n",
    "                brother_radd = one_sibling_radd\n",
    "                sister_radd = one_sibling_radd\n",
    "                \n",
    "        elif case == Case.MAJOR_KALALA_CASE:\n",
    "            # one sister\n",
    "            W33 = heirs.sister == 1 and heirs.siblings < 2 and not heirs.children\n",
    "            V33 = W33\n",
    "            U33 = V33 and not heirs.spouse and not heirs.parents and not heirs.children and not heirs.brother and not heirs.relatives\n",
    "            if U33:\n",
    "                sister_radd = F(12,24)\n",
    "            \n",
    "            # two sisters\n",
    "            W34 = heirs.sister == 2 and heirs.siblings < 3 and not heirs.children\n",
    "            V34 = W34\n",
    "            U34 = V34 and not heirs.spouse and not heirs.parents and not heirs.children and not heirs.brother and not heirs.relatives\n",
    "            if U34:\n",
    "                sister_radd = F(8,24)  # shared between 2 sisters\n",
    "        \n",
    "        shares.brother += brother_radd\n",
    "        shares.sister += sister_radd"
   ],
   "metadata": {
    "collapsed": false,
    "ExecuteTime": {
     "end_time": "2024-09-09T18:31:21.121485400Z",
     "start_time": "2024-09-09T18:31:21.027703300Z"
    }
   },
   "id": "39a97a4677664d0",
   "execution_count": 1197
  },
  {
   "cell_type": "markdown",
   "source": [
    "## get_relatives_share()"
   ],
   "metadata": {
    "collapsed": false
   },
   "id": "4d6a10f06216de20"
  },
  {
   "cell_type": "code",
   "outputs": [],
   "source": [
    "def get_relatives_share(heirs: Heirs, shares: Shares):\n",
    "    if heirs.relatives > 0 and shares.remaining() > 0:\n",
    "        shares.relatives = shares.remaining()"
   ],
   "metadata": {
    "collapsed": false,
    "ExecuteTime": {
     "end_time": "2024-09-09T18:31:21.185407600Z",
     "start_time": "2024-09-09T18:31:21.107127300Z"
    }
   },
   "id": "910f83d4d7d8821d",
   "execution_count": 1198
  },
  {
   "cell_type": "markdown",
   "source": [
    "## get_shares_general_case()"
   ],
   "metadata": {
    "collapsed": false
   },
   "id": "28c7ec77d85ac291"
  },
  {
   "cell_type": "code",
   "outputs": [],
   "source": [
    "def get_shares_general_case(heirs: Heirs):\n",
    "    shares = Shares()\n",
    "\n",
    "    # Husband / Wife\n",
    "    get_spouse_share(heirs, shares)\n",
    "\n",
    "    # Father\n",
    "    get_father_share(heirs, shares)\n",
    "\n",
    "    # Mother\n",
    "    get_mother_share(heirs, shares)\n",
    "\n",
    "    # Children\n",
    "    get_children_share(heirs, shares)\n",
    "\n",
    "    # Husband / Wife Radd\n",
    "    # get_spouse_radd(heirs, shares)\n",
    "\n",
    "    # Siblings\n",
    "    get_siblings_share(heirs, shares)\n",
    "    \n",
    "    dummy_radd = Shares()\n",
    "\n",
    "    # Relatives\n",
    "    # TODO: i don't think relatives could inherit in general case\n",
    "    get_relatives_share(heirs, shares)\n",
    "\n",
    "    return shares, dummy_radd"
   ],
   "metadata": {
    "id": "91f91bc69be6afec",
    "executionInfo": {
     "status": "ok",
     "timestamp": 1725368713738,
     "user_tz": -180,
     "elapsed": 25,
     "user": {
      "displayName": "Alaa",
      "userId": "01777893681248375670"
     }
    },
    "ExecuteTime": {
     "end_time": "2024-09-09T18:31:21.232891Z",
     "start_time": "2024-09-09T18:31:21.188602100Z"
    }
   },
   "id": "91f91bc69be6afec",
   "execution_count": 1199
  },
  {
   "cell_type": "markdown",
   "source": [
    "## get_shares_adults_case()"
   ],
   "metadata": {
    "collapsed": false
   },
   "id": "ed812ca75231f57e"
  },
  {
   "cell_type": "code",
   "outputs": [],
   "source": [
    "def get_shares_adults_case(heirs: Heirs, estate):\n",
    "    shares = Shares()\n",
    "    \n",
    "    # Husband / Wife\n",
    "    get_spouse_share(heirs, shares)\n",
    "    \n",
    "    # Father\n",
    "    get_father_share(heirs, shares)\n",
    "    \n",
    "    # Mother\n",
    "    get_mother_share(heirs, shares)\n",
    "    \n",
    "    # Husband / Wife Radd\n",
    "    # get_spouse_radd(heirs, shares)\n",
    "    \n",
    "    # Siblings\n",
    "    get_siblings_share(heirs, shares)\n",
    "    \n",
    "    # Radd\n",
    "    radd = get_radd(heirs, shares, estate)\n",
    "\n",
    "    # Relatives\n",
    "    get_relatives_share(heirs, shares)\n",
    "    \n",
    "    # One heir\n",
    "    transfer_rest(heirs, shares, radd, estate)\n",
    "    \n",
    "    return shares, radd"
   ],
   "metadata": {
    "id": "443abca47b00fd78",
    "executionInfo": {
     "status": "ok",
     "timestamp": 1725368713738,
     "user_tz": -180,
     "elapsed": 24,
     "user": {
      "displayName": "Alaa",
      "userId": "01777893681248375670"
     }
    },
    "ExecuteTime": {
     "end_time": "2024-09-09T18:31:21.293952700Z",
     "start_time": "2024-09-09T18:31:21.216254300Z"
    }
   },
   "id": "443abca47b00fd78",
   "execution_count": 1200
  },
  {
   "cell_type": "markdown",
   "source": [
    "## get_shares_minor_kalala()"
   ],
   "metadata": {
    "collapsed": false
   },
   "id": "321c46c923edeaf4"
  },
  {
   "cell_type": "code",
   "outputs": [],
   "source": [
    "def get_shares_minor_kalala(heirs: Heirs, estate):\n",
    "    shares = Shares()\n",
    "    \n",
    "    # Daughter\n",
    "    get_children_share(heirs, shares)\n",
    "    \n",
    "    # Siblings\n",
    "    get_siblings_share(heirs, shares)\n",
    "\n",
    "    # Radd\n",
    "    radd = get_radd(heirs, shares, estate)\n",
    "    \n",
    "    # Relatives\n",
    "    get_relatives_share(heirs, shares)\n",
    "    \n",
    "    # One heir\n",
    "    transfer_rest(heirs, shares, radd, estate)\n",
    "    \n",
    "    return shares, radd"
   ],
   "metadata": {
    "collapsed": false,
    "ExecuteTime": {
     "end_time": "2024-09-09T18:31:21.371582600Z",
     "start_time": "2024-09-09T18:31:21.296220400Z"
    }
   },
   "id": "3c6688172d09662b",
   "execution_count": 1201
  },
  {
   "cell_type": "markdown",
   "source": [
    "## get_shares_major_kalala()"
   ],
   "metadata": {
    "collapsed": false
   },
   "id": "cbacfdaae2e2eae5"
  },
  {
   "cell_type": "code",
   "outputs": [],
   "source": [
    "def get_shares_major_kalala(heirs: Heirs):\n",
    "    shares = Shares()\n",
    "    \n",
    "    # Siblings\n",
    "    get_siblings_share(heirs, shares)\n",
    "    \n",
    "    dummy_radd = Shares()\n",
    "    \n",
    "    # Relatives\n",
    "    get_relatives_share(heirs, shares)\n",
    "    \n",
    "    return shares, dummy_radd"
   ],
   "metadata": {
    "collapsed": false,
    "ExecuteTime": {
     "end_time": "2024-09-09T18:31:21.458132200Z",
     "start_time": "2024-09-09T18:31:21.355884100Z"
    }
   },
   "id": "ed819896294b7573",
   "execution_count": 1202
  },
  {
   "cell_type": "markdown",
   "source": [
    "## RADD"
   ],
   "metadata": {
    "collapsed": false
   },
   "id": "e8003f19a02b9ff2"
  },
  {
   "cell_type": "markdown",
   "source": [
    "### get_radd()"
   ],
   "metadata": {
    "collapsed": false
   },
   "id": "e7c27815baa857d0"
  },
  {
   "cell_type": "code",
   "outputs": [],
   "source": [
    "def get_radd(heirs: Heirs, shares: Shares, estate) -> Shares:\n",
    "    def _get_new_nominator(fraction : Fraction, new_denominator):\n",
    "        return new_denominator / fraction.denominator * fraction.numerator\n",
    "    \n",
    "    radd = Shares()  # TODO: it's actually gonna be amounts, not shares... but Ok\n",
    "    if get_case(heirs) in [Case.ADULTS_CASE, Case.MINOR_KALALA_CASE] and ((rem := (shares.remaining() * estate)) > 0):\n",
    "        lcd = LCD(*shares.get_dict().values())\n",
    "        \n",
    "        # calc relative RADD\n",
    "        # aX + bX + ... = remainder\n",
    "        # X = remainder / sum(...)\n",
    "        sister_new_numerator = _get_new_nominator(shares.sister,lcd)\n",
    "        brother_new_numerator = _get_new_nominator(shares.brother,lcd)\n",
    "        mother_new_numerator = _get_new_nominator(shares.mother,lcd)\n",
    "        new_numerators_sum = sister_new_numerator + brother_new_numerator + mother_new_numerator\n",
    "        relative_radd = F(rem, new_numerators_sum) if new_numerators_sum > 0 else 0\n",
    "        \n",
    "        # calc max radd portion\n",
    "        sister_radd = relative_radd * F(sister_new_numerator)\n",
    "        brothers_radd = relative_radd * F(brother_new_numerator)\n",
    "        mother_radd = relative_radd * F(mother_new_numerator)\n",
    "        \n",
    "        # update ceilings\n",
    "        if heirs.sister == 1:\n",
    "            sisters_margin = Ceiling.ONE_SISTER - shares.sister\n",
    "        elif heirs.sister == 2:\n",
    "            sisters_margin = Ceiling.TWO_SISTERS - shares.sister\n",
    "        else:\n",
    "            # TODO: Probably no need for this case\n",
    "            sisters_margin = Ceiling.THREE_OR_MORE_SISTERS - shares.sister\n",
    "        \n",
    "        brothers_margin = Ceiling.BROTHER - shares.brother\n",
    "        mother_margin = Ceiling.MOTHER - shares.mother\n",
    "        \n",
    "        # calc actual radd shares\n",
    "        radd.sister = min(F(sister_radd, estate), sisters_margin)\n",
    "        radd.brother = min(F(brothers_radd, estate), brothers_margin)\n",
    "        radd.mother = min(F(mother_radd, estate), mother_margin)\n",
    "        \n",
    "        # save radd\n",
    "        shares.total_radd = radd.sister + radd.brother + radd.mother\n",
    "        radd.total_radd = shares.total_radd * estate\n",
    "        \n",
    "        # calc radd amounts\n",
    "        radd.sister = radd.sister * estate\n",
    "        radd.brother = radd.brother * estate\n",
    "        radd.mother = radd.mother * estate\n",
    "        \n",
    "    return radd"
   ],
   "metadata": {
    "collapsed": false,
    "ExecuteTime": {
     "end_time": "2024-09-09T18:31:25.668501500Z",
     "start_time": "2024-09-09T18:31:25.647846600Z"
    }
   },
   "id": "181e396e88d8271f",
   "execution_count": 1237
  },
  {
   "cell_type": "markdown",
   "source": [
    "### transfer_rest()"
   ],
   "metadata": {
    "collapsed": false
   },
   "id": "816c246b0a4209f5"
  },
  {
   "cell_type": "code",
   "outputs": [],
   "source": [
    "def transfer_rest(heirs: Heirs, shares: Shares, radd: Shares, estate):\n",
    "    rest_portion = shares.remaining()\n",
    "    if rest_portion > 0:\n",
    "        rest_amount = rest_portion * estate\n",
    "        if heirs.husband:\n",
    "            radd.husband += rest_amount\n",
    "        elif heirs.wife:\n",
    "            radd.wife += rest_amount\n",
    "        elif heirs.daughter > 0:  # minor kalala case\n",
    "            radd.daughter += rest_amount\n",
    "        \n",
    "        radd.total_radd += rest_amount\n",
    "        shares.total_radd += rest_portion"
   ],
   "metadata": {
    "collapsed": false,
    "ExecuteTime": {
     "end_time": "2024-09-09T18:31:21.602958200Z",
     "start_time": "2024-09-09T18:31:21.493113900Z"
    }
   },
   "id": "dc58797ce137db9f",
   "execution_count": 1204
  },
  {
   "cell_type": "markdown",
   "source": [
    "## shares_to_amounts()"
   ],
   "metadata": {
    "collapsed": false
   },
   "id": "eaeb30eb471dc3b"
  },
  {
   "cell_type": "code",
   "outputs": [],
   "source": [
    "def shares_to_amounts(shares: Shares, estate=24) -> Shares:\n",
    "    amounts = Shares()\n",
    "    for heir_name, heir_share in shares.get_dict().items():\n",
    "        setattr(amounts, heir_name, heir_share * estate)\n",
    "    return amounts"
   ],
   "metadata": {
    "id": "d73711cc70d8147e",
    "executionInfo": {
     "status": "ok",
     "timestamp": 1725368713738,
     "user_tz": -180,
     "elapsed": 24,
     "user": {
      "displayName": "Alaa",
      "userId": "01777893681248375670"
     }
    },
    "ExecuteTime": {
     "end_time": "2024-09-09T18:31:21.689454700Z",
     "start_time": "2024-09-09T18:31:21.601880400Z"
    }
   },
   "id": "d73711cc70d8147e",
   "execution_count": 1205
  },
  {
   "cell_type": "markdown",
   "source": [
    "## calculate_shares()"
   ],
   "metadata": {
    "collapsed": false
   },
   "id": "dd754d662c203e34"
  },
  {
   "cell_type": "code",
   "outputs": [],
   "source": [
    "def calculate_shares(heirs: Heirs, estate) -> (Shares,Shares):\n",
    "    the_case = get_case(heirs)\n",
    "    match the_case:\n",
    "        case Case.GENERAL_CASE:\n",
    "            return get_shares_general_case(heirs)\n",
    "        case Case.ADULTS_CASE:\n",
    "            return get_shares_adults_case(heirs, estate=estate)\n",
    "        case Case.MINOR_KALALA_CASE:\n",
    "            return get_shares_minor_kalala(heirs, estate=estate)\n",
    "        case Case.MAJOR_KALALA_CASE:\n",
    "            return get_shares_major_kalala(heirs)"
   ],
   "metadata": {
    "id": "76caa248b6f8f11c",
    "executionInfo": {
     "status": "ok",
     "timestamp": 1725368713738,
     "user_tz": -180,
     "elapsed": 23,
     "user": {
      "displayName": "Alaa",
      "userId": "01777893681248375670"
     }
    },
    "ExecuteTime": {
     "end_time": "2024-09-09T18:31:21.746923400Z",
     "start_time": "2024-09-09T18:31:21.655805500Z"
    }
   },
   "id": "76caa248b6f8f11c",
   "execution_count": 1206
  },
  {
   "cell_type": "markdown",
   "source": [
    "# Calculations"
   ],
   "metadata": {
    "collapsed": false
   },
   "id": "577a670ddbc60dd4"
  },
  {
   "cell_type": "markdown",
   "source": [
    "## General"
   ],
   "metadata": {
    "collapsed": false
   },
   "id": "79f209c5bfd52b5b"
  },
  {
   "cell_type": "code",
   "outputs": [
    {
     "name": "stdout",
     "output_type": "stream",
     "text": [
      "24.0/24\n",
      "1/1\n"
     ]
    },
    {
     "data": {
      "text/plain": "husband (0): 0.00 (+0.00), wife (0): 0.00 (+0.00), sons (0): 0x0.00, daughters (5/6): 3x6.67 (+0.00), brothers (0): 2x0.00 (+0.00), sisters (0): 1x0.00 (+0.00), father (1/6): 4.00, mother (0): 0.00 (+0.00), relatives: 0x0.00"
     },
     "execution_count": 1207,
     "metadata": {},
     "output_type": "execute_result"
    }
   ],
   "source": [
    "general1_amounts = Amounts(general1)\n",
    "print(f\"{general1_amounts.sum_amounts()}/{general1_amounts.estate}\")\n",
    "print(f\"{general1_amounts.sum_shares()}/1\")\n",
    "general1_amounts"
   ],
   "metadata": {
    "collapsed": false,
    "ExecuteTime": {
     "end_time": "2024-09-09T18:31:21.861343600Z",
     "start_time": "2024-09-09T18:31:21.751338800Z"
    }
   },
   "id": "8223d6228c38a054",
   "execution_count": 1207
  },
  {
   "cell_type": "code",
   "source": [
    "general2_amounts = Amounts(general2)\n",
    "print(f\"{general2_amounts.sum_amounts()}/{general2_amounts.estate}\")\n",
    "print(f\"{general2_amounts.sum_shares()}/1\")\n",
    "general2_amounts"
   ],
   "metadata": {
    "colab": {
     "base_uri": "https://localhost:8080/"
    },
    "id": "4A6I-wXS8Rea",
    "executionInfo": {
     "status": "ok",
     "timestamp": 1725368713739,
     "user_tz": -180,
     "elapsed": 20,
     "user": {
      "displayName": "Alaa",
      "userId": "01777893681248375670"
     }
    },
    "outputId": "3fd58413-03e0-42f3-c3e8-c4d389a6d2a7",
    "ExecuteTime": {
     "end_time": "2024-09-09T18:31:21.914668500Z",
     "start_time": "2024-09-09T18:31:21.803854Z"
    }
   },
   "id": "4A6I-wXS8Rea",
   "execution_count": 1208,
   "outputs": [
    {
     "name": "stdout",
     "output_type": "stream",
     "text": [
      "24.0/24\n",
      "1/1\n"
     ]
    },
    {
     "data": {
      "text/plain": "husband (1/4): 6.00 (+0.00), wife (0): 0.00 (+0.00), sons (0): 0x0.00, daughters (7/12): 3x4.67 (+0.00), brothers (0): 2x0.00 (+0.00), sisters (0): 1x0.00 (+0.00), father (0): 0.00, mother (1/6): 4.00 (+0.00), relatives: 0x0.00"
     },
     "execution_count": 1208,
     "metadata": {},
     "output_type": "execute_result"
    }
   ]
  },
  {
   "cell_type": "code",
   "source": [
    "general3_amounts = Amounts(general3)\n",
    "print(f\"{general3_amounts.sum_amounts()}/{general3_amounts.estate}\")\n",
    "print(f\"{general3_amounts.sum_shares()}/1\")\n",
    "general3_amounts"
   ],
   "metadata": {
    "colab": {
     "base_uri": "https://localhost:8080/"
    },
    "id": "IYF1DKTk8SgO",
    "executionInfo": {
     "status": "ok",
     "timestamp": 1725368713739,
     "user_tz": -180,
     "elapsed": 17,
     "user": {
      "displayName": "Alaa",
      "userId": "01777893681248375670"
     }
    },
    "outputId": "ccda80ee-736e-467a-ab06-e5f6940f5ab8",
    "ExecuteTime": {
     "end_time": "2024-09-09T18:31:22.048695400Z",
     "start_time": "2024-09-09T18:31:21.900400200Z"
    }
   },
   "id": "IYF1DKTk8SgO",
   "execution_count": 1209,
   "outputs": [
    {
     "name": "stdout",
     "output_type": "stream",
     "text": [
      "24.0/24\n",
      "1/1\n"
     ]
    },
    {
     "data": {
      "text/plain": "husband (1/4): 6.00 (+0.00), wife (0): 0.00 (+0.00), sons (7/12): 3x4.67, daughters (0): 0x0.00 (+0.00), brothers (0): 2x0.00 (+0.00), sisters (0): 1x0.00 (+0.00), father (0): 0.00, mother (1/6): 4.00 (+0.00), relatives: 0x0.00"
     },
     "execution_count": 1209,
     "metadata": {},
     "output_type": "execute_result"
    }
   ]
  },
  {
   "cell_type": "code",
   "source": [
    "general4_amounts = Amounts(general4)\n",
    "print(f\"{general4_amounts.sum_amounts()}/{general4_amounts.estate}\")\n",
    "print(f\"{general4_amounts.sum_shares()}/1\")\n",
    "general4_amounts"
   ],
   "metadata": {
    "colab": {
     "base_uri": "https://localhost:8080/",
     "height": 304
    },
    "id": "eEfi9ges8T1I",
    "executionInfo": {
     "status": "error",
     "timestamp": 1725368713739,
     "user_tz": -180,
     "elapsed": 15,
     "user": {
      "displayName": "Alaa",
      "userId": "01777893681248375670"
     }
    },
    "outputId": "92cfc913-b817-4246-a371-6db35ae7c41b",
    "ExecuteTime": {
     "end_time": "2024-09-09T18:31:22.127468Z",
     "start_time": "2024-09-09T18:31:22.022740300Z"
    }
   },
   "id": "eEfi9ges8T1I",
   "execution_count": 1210,
   "outputs": [
    {
     "name": "stdout",
     "output_type": "stream",
     "text": [
      "24.0/24\n",
      "1/1\n"
     ]
    },
    {
     "data": {
      "text/plain": "husband (1/4): 6.00 (+0.00), wife (0): 0.00 (+0.00), sons (7/15): 2x5.60, daughters (7/60): 1x2.80 (+0.00), brothers (0): 2x0.00 (+0.00), sisters (0): 1x0.00 (+0.00), father (0): 0.00, mother (1/6): 4.00 (+0.00), relatives: 0x0.00"
     },
     "execution_count": 1210,
     "metadata": {},
     "output_type": "execute_result"
    }
   ]
  },
  {
   "cell_type": "code",
   "outputs": [
    {
     "name": "stdout",
     "output_type": "stream",
     "text": [
      "24.0/24\n",
      "1/1\n"
     ]
    },
    {
     "data": {
      "text/plain": "husband (1/4): 6.00 (+0.00), wife (0): 0.00 (+0.00), sons (0): 0x0.00, daughters (7/12): 1x14.00 (+0.00), brothers (0): 2x0.00 (+0.00), sisters (0): 1x0.00 (+0.00), father (0): 0.00, mother (1/6): 4.00 (+0.00), relatives: 0x0.00"
     },
     "execution_count": 1211,
     "metadata": {},
     "output_type": "execute_result"
    }
   ],
   "source": [
    "general5_amounts = Amounts(general5)\n",
    "print(f\"{general5_amounts.sum_amounts()}/{general5_amounts.estate}\")\n",
    "print(f\"{general5_amounts.sum_shares()}/1\")\n",
    "general5_amounts"
   ],
   "metadata": {
    "collapsed": false,
    "ExecuteTime": {
     "end_time": "2024-09-09T18:31:22.280010300Z",
     "start_time": "2024-09-09T18:31:22.112392100Z"
    }
   },
   "id": "9ff3a96c1dcb110",
   "execution_count": 1211
  },
  {
   "cell_type": "markdown",
   "source": [
    "## Adults"
   ],
   "metadata": {
    "collapsed": false
   },
   "id": "7f73b834c7cf7f0c"
  },
  {
   "cell_type": "code",
   "outputs": [
    {
     "name": "stdout",
     "output_type": "stream",
     "text": [
      "24.0/24\n",
      "1/1\n"
     ]
    },
    {
     "data": {
      "text/plain": "husband (1/2): 12.00 (+0.00), wife (0): 0.00 (+0.00), sons (0): 0x0.00, daughters (0): 0x0.00 (+0.00), brothers (0): 2x0.00 (+0.00), sisters (0): 1x0.00 (+0.00), father (1/2): 12.00, mother (0): 0.00 (+0.00), relatives: 0x0.00"
     },
     "execution_count": 1212,
     "metadata": {},
     "output_type": "execute_result"
    }
   ],
   "source": [
    "adults1_amounts = Amounts(adults1)\n",
    "print(f\"{adults1_amounts.sum_amounts()}/{adults1_amounts.estate}\")\n",
    "print(f\"{adults1_amounts.sum_shares()}/1\")\n",
    "adults1_amounts"
   ],
   "metadata": {
    "collapsed": false,
    "ExecuteTime": {
     "end_time": "2024-09-09T18:31:22.345663700Z",
     "start_time": "2024-09-09T18:31:22.261058200Z"
    }
   },
   "id": "9c7388a92e93a3bd",
   "execution_count": 1212
  },
  {
   "cell_type": "code",
   "outputs": [
    {
     "name": "stdout",
     "output_type": "stream",
     "text": [
      "24.0/24\n",
      "1/1\n"
     ]
    },
    {
     "data": {
      "text/plain": "husband (1/2): 12.00 (+0.00), wife (0): 0.00 (+0.00), sons (0): 0x0.00, daughters (0): 0x0.00 (+0.00), brothers (2/9): 2x2.67 (+0.00), sisters (1/9): 1x2.67 (+0.00), father (0): 0.00, mother (1/6): 4.00 (+0.00), relatives: 0x0.00"
     },
     "execution_count": 1213,
     "metadata": {},
     "output_type": "execute_result"
    }
   ],
   "source": [
    "adults2_amounts = Amounts(adults2)\n",
    "print(f\"{adults2_amounts.sum_amounts()}/{adults2_amounts.estate}\")\n",
    "print(f\"{adults2_amounts.sum_shares()}/1\")\n",
    "adults2_amounts"
   ],
   "metadata": {
    "collapsed": false,
    "ExecuteTime": {
     "end_time": "2024-09-09T18:31:22.529337600Z",
     "start_time": "2024-09-09T18:31:22.346772900Z"
    }
   },
   "id": "c8456fef5436c453",
   "execution_count": 1213
  },
  {
   "cell_type": "code",
   "outputs": [
    {
     "ename": "KeyboardInterrupt",
     "evalue": "",
     "output_type": "error",
     "traceback": [
      "\u001B[1;31m---------------------------------------------------------------------------\u001B[0m",
      "\u001B[1;31mKeyboardInterrupt\u001B[0m                         Traceback (most recent call last)",
      "Cell \u001B[1;32mIn[1238], line 1\u001B[0m\n\u001B[1;32m----> 1\u001B[0m adults3_amounts \u001B[38;5;241m=\u001B[39m \u001B[43mAmounts\u001B[49m\u001B[43m(\u001B[49m\u001B[43madults3\u001B[49m\u001B[43m)\u001B[49m\n\u001B[0;32m      2\u001B[0m \u001B[38;5;28mprint\u001B[39m(\u001B[38;5;124mf\u001B[39m\u001B[38;5;124m\"\u001B[39m\u001B[38;5;132;01m{\u001B[39;00madults3_amounts\u001B[38;5;241m.\u001B[39msum_amounts()\u001B[38;5;132;01m}\u001B[39;00m\u001B[38;5;124m/\u001B[39m\u001B[38;5;132;01m{\u001B[39;00madults3_amounts\u001B[38;5;241m.\u001B[39mestate\u001B[38;5;132;01m}\u001B[39;00m\u001B[38;5;124m\"\u001B[39m)\n\u001B[0;32m      3\u001B[0m \u001B[38;5;28mprint\u001B[39m(\u001B[38;5;124mf\u001B[39m\u001B[38;5;124m\"\u001B[39m\u001B[38;5;132;01m{\u001B[39;00madults3_amounts\u001B[38;5;241m.\u001B[39msum_shares()\u001B[38;5;132;01m}\u001B[39;00m\u001B[38;5;124m/1\u001B[39m\u001B[38;5;124m\"\u001B[39m)\n",
      "Cell \u001B[1;32mIn[1185], line 4\u001B[0m, in \u001B[0;36mAmounts.__init__\u001B[1;34m(self, heirs, estate, amounts)\u001B[0m\n\u001B[0;32m      2\u001B[0m \u001B[38;5;28;01mdef\u001B[39;00m \u001B[38;5;21m__init__\u001B[39m(\u001B[38;5;28mself\u001B[39m, heirs: Heirs, estate\u001B[38;5;241m=\u001B[39m\u001B[38;5;241m24\u001B[39m, amounts\u001B[38;5;241m=\u001B[39m\u001B[38;5;28;01mNone\u001B[39;00m):\n\u001B[0;32m      3\u001B[0m     \u001B[38;5;28mself\u001B[39m\u001B[38;5;241m.\u001B[39m_heirs \u001B[38;5;241m=\u001B[39m heirs\n\u001B[1;32m----> 4\u001B[0m     \u001B[38;5;28mself\u001B[39m\u001B[38;5;241m.\u001B[39m_shares, \u001B[38;5;28mself\u001B[39m\u001B[38;5;241m.\u001B[39m_radd \u001B[38;5;241m=\u001B[39m \u001B[43mcalculate_shares\u001B[49m\u001B[43m(\u001B[49m\u001B[43mheirs\u001B[49m\u001B[43m,\u001B[49m\u001B[43m \u001B[49m\u001B[43mestate\u001B[49m\u001B[38;5;241;43m=\u001B[39;49m\u001B[43mestate\u001B[49m\u001B[43m)\u001B[49m\n\u001B[0;32m      5\u001B[0m     \u001B[38;5;28mself\u001B[39m\u001B[38;5;241m.\u001B[39m_estate \u001B[38;5;241m=\u001B[39m F(estate)\n\u001B[0;32m      6\u001B[0m     \u001B[38;5;28;01mif\u001B[39;00m amounts \u001B[38;5;129;01mis\u001B[39;00m \u001B[38;5;28;01mNone\u001B[39;00m:\n",
      "Cell \u001B[1;32mIn[1206], line 7\u001B[0m, in \u001B[0;36mcalculate_shares\u001B[1;34m(heirs, estate)\u001B[0m\n\u001B[0;32m      5\u001B[0m     \u001B[38;5;28;01mreturn\u001B[39;00m get_shares_general_case(heirs)\n\u001B[0;32m      6\u001B[0m \u001B[38;5;28;01mcase\u001B[39;00m Case\u001B[38;5;241m.\u001B[39mADULTS_CASE:\n\u001B[1;32m----> 7\u001B[0m     \u001B[38;5;28;01mreturn\u001B[39;00m \u001B[43mget_shares_adults_case\u001B[49m\u001B[43m(\u001B[49m\u001B[43mheirs\u001B[49m\u001B[43m,\u001B[49m\u001B[43m \u001B[49m\u001B[43mestate\u001B[49m\u001B[38;5;241;43m=\u001B[39;49m\u001B[43mestate\u001B[49m\u001B[43m)\u001B[49m\n\u001B[0;32m      8\u001B[0m \u001B[38;5;28;01mcase\u001B[39;00m Case\u001B[38;5;241m.\u001B[39mMINOR_KALALA_CASE:\n\u001B[0;32m      9\u001B[0m     \u001B[38;5;28;01mreturn\u001B[39;00m get_shares_minor_kalala(heirs, estate\u001B[38;5;241m=\u001B[39mestate)\n",
      "Cell \u001B[1;32mIn[1200], line 20\u001B[0m, in \u001B[0;36mget_shares_adults_case\u001B[1;34m(heirs, estate)\u001B[0m\n\u001B[0;32m     17\u001B[0m get_siblings_share(heirs, shares)\n\u001B[0;32m     19\u001B[0m \u001B[38;5;66;03m# Radd\u001B[39;00m\n\u001B[1;32m---> 20\u001B[0m radd \u001B[38;5;241m=\u001B[39m \u001B[43mget_radd\u001B[49m\u001B[43m(\u001B[49m\u001B[43mheirs\u001B[49m\u001B[43m,\u001B[49m\u001B[43m \u001B[49m\u001B[43mshares\u001B[49m\u001B[43m,\u001B[49m\u001B[43m \u001B[49m\u001B[43mestate\u001B[49m\u001B[43m)\u001B[49m\n\u001B[0;32m     22\u001B[0m \u001B[38;5;66;03m# Relatives\u001B[39;00m\n\u001B[0;32m     23\u001B[0m get_relatives_share(heirs, shares)\n",
      "Cell \u001B[1;32mIn[1237], line 12\u001B[0m, in \u001B[0;36mget_radd\u001B[1;34m(heirs, shares, estate)\u001B[0m\n\u001B[0;32m      7\u001B[0m lcd \u001B[38;5;241m=\u001B[39m LCD(\u001B[38;5;241m*\u001B[39mshares\u001B[38;5;241m.\u001B[39mget_dict()\u001B[38;5;241m.\u001B[39mvalues())\n\u001B[0;32m      9\u001B[0m \u001B[38;5;66;03m# calc relative RADD\u001B[39;00m\n\u001B[0;32m     10\u001B[0m \u001B[38;5;66;03m# aX + bX + ... = remainder\u001B[39;00m\n\u001B[0;32m     11\u001B[0m \u001B[38;5;66;03m# X = remainder / sum(...)\u001B[39;00m\n\u001B[1;32m---> 12\u001B[0m sister_new_numerator \u001B[38;5;241m=\u001B[39m \u001B[43m_get_new_nominator\u001B[49m(shares\u001B[38;5;241m.\u001B[39msister,lcd)\n\u001B[0;32m     13\u001B[0m brother_new_numerator \u001B[38;5;241m=\u001B[39m _get_new_nominator(shares\u001B[38;5;241m.\u001B[39mbrother,lcd)\n\u001B[0;32m     14\u001B[0m mother_new_numerator \u001B[38;5;241m=\u001B[39m _get_new_nominator(shares\u001B[38;5;241m.\u001B[39mmother,lcd)\n",
      "Cell \u001B[1;32mIn[1237], line 12\u001B[0m, in \u001B[0;36mget_radd\u001B[1;34m(heirs, shares, estate)\u001B[0m\n\u001B[0;32m      7\u001B[0m lcd \u001B[38;5;241m=\u001B[39m LCD(\u001B[38;5;241m*\u001B[39mshares\u001B[38;5;241m.\u001B[39mget_dict()\u001B[38;5;241m.\u001B[39mvalues())\n\u001B[0;32m      9\u001B[0m \u001B[38;5;66;03m# calc relative RADD\u001B[39;00m\n\u001B[0;32m     10\u001B[0m \u001B[38;5;66;03m# aX + bX + ... = remainder\u001B[39;00m\n\u001B[0;32m     11\u001B[0m \u001B[38;5;66;03m# X = remainder / sum(...)\u001B[39;00m\n\u001B[1;32m---> 12\u001B[0m sister_new_numerator \u001B[38;5;241m=\u001B[39m \u001B[43m_get_new_nominator\u001B[49m(shares\u001B[38;5;241m.\u001B[39msister,lcd)\n\u001B[0;32m     13\u001B[0m brother_new_numerator \u001B[38;5;241m=\u001B[39m _get_new_nominator(shares\u001B[38;5;241m.\u001B[39mbrother,lcd)\n\u001B[0;32m     14\u001B[0m mother_new_numerator \u001B[38;5;241m=\u001B[39m _get_new_nominator(shares\u001B[38;5;241m.\u001B[39mmother,lcd)\n",
      "File \u001B[1;32m_pydevd_bundle\\pydevd_cython_win32_310_64.pyx:1187\u001B[0m, in \u001B[0;36m_pydevd_bundle.pydevd_cython_win32_310_64.SafeCallWrapper.__call__\u001B[1;34m()\u001B[0m\n",
      "File \u001B[1;32m_pydevd_bundle\\pydevd_cython_win32_310_64.pyx:627\u001B[0m, in \u001B[0;36m_pydevd_bundle.pydevd_cython_win32_310_64.PyDBFrame.trace_dispatch\u001B[1;34m()\u001B[0m\n",
      "File \u001B[1;32m_pydevd_bundle\\pydevd_cython_win32_310_64.pyx:937\u001B[0m, in \u001B[0;36m_pydevd_bundle.pydevd_cython_win32_310_64.PyDBFrame.trace_dispatch\u001B[1;34m()\u001B[0m\n",
      "File \u001B[1;32m_pydevd_bundle\\pydevd_cython_win32_310_64.pyx:928\u001B[0m, in \u001B[0;36m_pydevd_bundle.pydevd_cython_win32_310_64.PyDBFrame.trace_dispatch\u001B[1;34m()\u001B[0m\n",
      "File \u001B[1;32m_pydevd_bundle\\pydevd_cython_win32_310_64.pyx:585\u001B[0m, in \u001B[0;36m_pydevd_bundle.pydevd_cython_win32_310_64.PyDBFrame.do_wait_suspend\u001B[1;34m()\u001B[0m\n",
      "File \u001B[1;32mC:\\Program Files\\JetBrains\\PyCharm 2022.3.1\\plugins\\python\\helpers\\pydev\\pydevd.py:1184\u001B[0m, in \u001B[0;36mPyDB.do_wait_suspend\u001B[1;34m(self, thread, frame, event, arg, send_suspend_message, is_unhandled_exception)\u001B[0m\n\u001B[0;32m   1181\u001B[0m         from_this_thread\u001B[38;5;241m.\u001B[39mappend(frame_id)\n\u001B[0;32m   1183\u001B[0m \u001B[38;5;28;01mwith\u001B[39;00m \u001B[38;5;28mself\u001B[39m\u001B[38;5;241m.\u001B[39m_threads_suspended_single_notification\u001B[38;5;241m.\u001B[39mnotify_thread_suspended(thread_id, stop_reason):\n\u001B[1;32m-> 1184\u001B[0m     \u001B[38;5;28;43mself\u001B[39;49m\u001B[38;5;241;43m.\u001B[39;49m\u001B[43m_do_wait_suspend\u001B[49m\u001B[43m(\u001B[49m\u001B[43mthread\u001B[49m\u001B[43m,\u001B[49m\u001B[43m \u001B[49m\u001B[43mframe\u001B[49m\u001B[43m,\u001B[49m\u001B[43m \u001B[49m\u001B[43mevent\u001B[49m\u001B[43m,\u001B[49m\u001B[43m \u001B[49m\u001B[43marg\u001B[49m\u001B[43m,\u001B[49m\u001B[43m \u001B[49m\u001B[43msuspend_type\u001B[49m\u001B[43m,\u001B[49m\u001B[43m \u001B[49m\u001B[43mfrom_this_thread\u001B[49m\u001B[43m)\u001B[49m\n",
      "File \u001B[1;32mC:\\Program Files\\JetBrains\\PyCharm 2022.3.1\\plugins\\python\\helpers\\pydev\\pydevd.py:1199\u001B[0m, in \u001B[0;36mPyDB._do_wait_suspend\u001B[1;34m(self, thread, frame, event, arg, suspend_type, from_this_thread)\u001B[0m\n\u001B[0;32m   1196\u001B[0m             \u001B[38;5;28mself\u001B[39m\u001B[38;5;241m.\u001B[39m_call_mpl_hook()\n\u001B[0;32m   1198\u001B[0m         \u001B[38;5;28mself\u001B[39m\u001B[38;5;241m.\u001B[39mprocess_internal_commands()\n\u001B[1;32m-> 1199\u001B[0m         \u001B[43mtime\u001B[49m\u001B[38;5;241;43m.\u001B[39;49m\u001B[43msleep\u001B[49m\u001B[43m(\u001B[49m\u001B[38;5;241;43m0.01\u001B[39;49m\u001B[43m)\u001B[49m\n\u001B[0;32m   1201\u001B[0m \u001B[38;5;28mself\u001B[39m\u001B[38;5;241m.\u001B[39mcancel_async_evaluation(get_current_thread_id(thread), \u001B[38;5;28mstr\u001B[39m(\u001B[38;5;28mid\u001B[39m(frame)))\n\u001B[0;32m   1203\u001B[0m \u001B[38;5;66;03m# process any stepping instructions\u001B[39;00m\n",
      "\u001B[1;31mKeyboardInterrupt\u001B[0m: "
     ]
    }
   ],
   "source": [
    "adults3_amounts = Amounts(adults3)\n",
    "print(f\"{adults3_amounts.sum_amounts()}/{adults3_amounts.estate}\")\n",
    "print(f\"{adults3_amounts.sum_shares()}/1\")\n",
    "adults3_amounts"
   ],
   "metadata": {
    "collapsed": false,
    "ExecuteTime": {
     "end_time": "2024-09-09T18:32:00.954904600Z",
     "start_time": "2024-09-09T18:31:41.916520800Z"
    }
   },
   "id": "55cb1833c5017101",
   "execution_count": 1238
  },
  {
   "cell_type": "code",
   "outputs": [
    {
     "name": "stdout",
     "output_type": "stream",
     "text": [
      "24.0/24\n",
      "1/1\n"
     ]
    },
    {
     "data": {
      "text/plain": "husband (0): 0.00 (+0.00), wife (1/4): 6.00 (+0.00), sons (0): 0x0.00, daughters (0): 0x0.00 (+0.00), brothers (0): 0x0.00 (+0.00), sisters (1/6): 1x4.00 (+8.00), father (0): 0.00, mother (0): 0.00 (+0.00), relatives: 1x6.00"
     },
     "execution_count": 1215,
     "metadata": {},
     "output_type": "execute_result"
    }
   ],
   "source": [
    "adults4_amounts = Amounts(adults4)\n",
    "print(f\"{adults4_amounts.sum_amounts()}/{adults4_amounts.estate}\")\n",
    "print(f\"{adults4_amounts.sum_shares()}/1\")\n",
    "adults4_amounts"
   ],
   "metadata": {
    "collapsed": false,
    "ExecuteTime": {
     "end_time": "2024-09-09T18:31:22.687628100Z",
     "start_time": "2024-09-09T18:31:22.608445200Z"
    }
   },
   "id": "bcceeb397a917dc1",
   "execution_count": 1215
  },
  {
   "cell_type": "code",
   "outputs": [
    {
     "name": "stdout",
     "output_type": "stream",
     "text": [
      "24.0/24\n",
      "1/1\n"
     ]
    },
    {
     "data": {
      "text/plain": "husband (0): 0.00 (+0.00), wife (1/4): 6.00 (+0.00), sons (0): 0x0.00, daughters (0): 0x0.00 (+0.00), brothers (1/6): 1x4.00 (+5.00), sisters (1/6): 1x4.00 (+5.00), father (0): 0.00, mother (0): 0.00 (+0.00), relatives: 1x0.00"
     },
     "execution_count": 1216,
     "metadata": {},
     "output_type": "execute_result"
    }
   ],
   "source": [
    "adults5_amounts = Amounts(adults5)\n",
    "print(f\"{adults5_amounts.sum_amounts()}/{adults5_amounts.estate}\")\n",
    "print(f\"{adults5_amounts.sum_shares()}/1\")\n",
    "adults5_amounts"
   ],
   "metadata": {
    "collapsed": false,
    "ExecuteTime": {
     "end_time": "2024-09-09T18:31:22.795252900Z",
     "start_time": "2024-09-09T18:31:22.669427100Z"
    }
   },
   "id": "22a1b4728776d8cc",
   "execution_count": 1216
  },
  {
   "cell_type": "markdown",
   "source": [
    "## Minor Kalala"
   ],
   "metadata": {
    "collapsed": false
   },
   "id": "414ceee3b8362850"
  },
  {
   "cell_type": "code",
   "outputs": [
    {
     "name": "stdout",
     "output_type": "stream",
     "text": [
      "24.0/24\n",
      "1/1\n"
     ]
    },
    {
     "data": {
      "text/plain": "husband (0): 0.00 (+0.00), wife (0): 0.00 (+0.00), sons (0): 0x0.00, daughters (1/2): 1x12.00 (+12.00), brothers (0): 0x0.00 (+0.00), sisters (0): 0x0.00 (+0.00), father (0): 0.00, mother (0): 0.00 (+0.00), relatives: 0x0.00"
     },
     "execution_count": 1217,
     "metadata": {},
     "output_type": "execute_result"
    }
   ],
   "source": [
    "minor_kalala_1_amounts = Amounts(minor_kalala_1)\n",
    "print(f\"{minor_kalala_1_amounts.sum_amounts()}/{minor_kalala_1_amounts.estate}\")\n",
    "print(f\"{minor_kalala_1_amounts.sum_shares()}/1\")\n",
    "minor_kalala_1_amounts"
   ],
   "metadata": {
    "collapsed": false,
    "ExecuteTime": {
     "end_time": "2024-09-09T18:31:22.874882700Z",
     "start_time": "2024-09-09T18:31:22.777332800Z"
    }
   },
   "id": "2ff7f5b5be9d6b1d",
   "execution_count": 1217
  },
  {
   "cell_type": "code",
   "outputs": [
    {
     "name": "stdout",
     "output_type": "stream",
     "text": [
      "24.0/24\n",
      "1/1\n"
     ]
    },
    {
     "data": {
      "text/plain": "husband (0): 0.00 (+0.00), wife (0): 0.00 (+0.00), sons (0): 0x0.00, daughters (2/3): 3x5.33 (+0.00), brothers (2/9): 2x2.67 (+0.00), sisters (1/9): 1x2.67 (+0.00), father (0): 0.00, mother (0): 0.00 (+0.00), relatives: 0x0.00"
     },
     "execution_count": 1218,
     "metadata": {},
     "output_type": "execute_result"
    }
   ],
   "source": [
    "minor_kalala_2_amounts = Amounts(minor_kalala_2)\n",
    "print(f\"{minor_kalala_2_amounts.sum_amounts()}/{minor_kalala_2_amounts.estate}\")\n",
    "print(f\"{minor_kalala_2_amounts.sum_shares()}/1\")\n",
    "minor_kalala_2_amounts"
   ],
   "metadata": {
    "collapsed": false,
    "ExecuteTime": {
     "end_time": "2024-09-09T18:31:23.033280400Z",
     "start_time": "2024-09-09T18:31:22.859556400Z"
    }
   },
   "id": "278ccc5073aea49a",
   "execution_count": 1218
  },
  {
   "cell_type": "code",
   "outputs": [
    {
     "name": "stdout",
     "output_type": "stream",
     "text": [
      "24.0/24\n",
      "1/1\n"
     ]
    },
    {
     "data": {
      "text/plain": "husband (0): 0.00 (+0.00), wife (0): 0.00 (+0.00), sons (0): 0x0.00, daughters (2/3): 3x5.33 (+0.00), brothers (0): 0x0.00 (+0.00), sisters (0): 0x0.00 (+0.00), father (0): 0.00, mother (0): 0.00 (+0.00), relatives: 1x8.00"
     },
     "execution_count": 1219,
     "metadata": {},
     "output_type": "execute_result"
    }
   ],
   "source": [
    "minor_kalala_3_amounts = Amounts(minor_kalala_3)\n",
    "print(f\"{minor_kalala_3_amounts.sum_amounts()}/{minor_kalala_3_amounts.estate}\")\n",
    "print(f\"{minor_kalala_3_amounts.sum_shares()}/1\")\n",
    "minor_kalala_3_amounts"
   ],
   "metadata": {
    "collapsed": false,
    "ExecuteTime": {
     "end_time": "2024-09-09T18:31:23.087037100Z",
     "start_time": "2024-09-09T18:31:22.974619900Z"
    }
   },
   "id": "6d4dd13885669ca3",
   "execution_count": 1219
  },
  {
   "cell_type": "code",
   "outputs": [
    {
     "name": "stdout",
     "output_type": "stream",
     "text": [
      "24.0/24\n",
      "1/1\n"
     ]
    },
    {
     "data": {
      "text/plain": "husband (0): 0.00 (+0.00), wife (0): 0.00 (+0.00), sons (0): 0x0.00, daughters (1/2): 1x12.00 (+0.00), brothers (0): 0x0.00 (+0.00), sisters (0): 0x0.00 (+0.00), father (0): 0.00, mother (0): 0.00 (+0.00), relatives: 1x12.00"
     },
     "execution_count": 1220,
     "metadata": {},
     "output_type": "execute_result"
    }
   ],
   "source": [
    "minor_kalala_4_amounts = Amounts(minor_kalala_4)\n",
    "print(f\"{minor_kalala_4_amounts.sum_amounts()}/{minor_kalala_4_amounts.estate}\")\n",
    "print(f\"{minor_kalala_4_amounts.sum_shares()}/1\")\n",
    "minor_kalala_4_amounts"
   ],
   "metadata": {
    "collapsed": false,
    "ExecuteTime": {
     "end_time": "2024-09-09T18:31:23.227183800Z",
     "start_time": "2024-09-09T18:31:23.090202500Z"
    }
   },
   "id": "1f0cc1ee496ebeb8",
   "execution_count": 1220
  },
  {
   "cell_type": "markdown",
   "source": [
    "## Major Kalala"
   ],
   "metadata": {
    "collapsed": false
   },
   "id": "8dfa5df8056a352"
  },
  {
   "cell_type": "code",
   "outputs": [
    {
     "name": "stdout",
     "output_type": "stream",
     "text": [
      "24.0/24\n",
      "1/1\n"
     ]
    },
    {
     "data": {
      "text/plain": "husband (0): 0.00 (+0.00), wife (0): 0.00 (+0.00), sons (0): 0x0.00, daughters (0): 0x0.00 (+0.00), brothers (1): 1x24.00 (+0.00), sisters (0): 0x0.00 (+0.00), father (0): 0.00, mother (0): 0.00 (+0.00), relatives: 0x0.00"
     },
     "execution_count": 1221,
     "metadata": {},
     "output_type": "execute_result"
    }
   ],
   "source": [
    "major_kalala_1_amounts = Amounts(major_kalala_1)\n",
    "print(f\"{major_kalala_1_amounts.sum_amounts()}/{major_kalala_1_amounts.estate}\")\n",
    "print(f\"{major_kalala_1_amounts.sum_shares()}/1\")\n",
    "major_kalala_1_amounts"
   ],
   "metadata": {
    "collapsed": false,
    "ExecuteTime": {
     "end_time": "2024-09-09T18:31:23.270675400Z",
     "start_time": "2024-09-09T18:31:23.201052500Z"
    }
   },
   "id": "3fe20a33c8284d14",
   "execution_count": 1221
  },
  {
   "cell_type": "code",
   "outputs": [
    {
     "name": "stdout",
     "output_type": "stream",
     "text": [
      "24.0/24\n",
      "1.0/1\n"
     ]
    },
    {
     "data": {
      "text/plain": "husband (0): 0.00 (+0.00), wife (0): 0.00 (+0.00), sons (0): 0x0.00, daughters (0): 0x0.00 (+0.00), brothers (2/3): 1x16.00 (+0.00), sisters (1/3): 1x8.00 (+0.00), father (0): 0.00, mother (0): 0.00 (+0.00), relatives: 1x0.00"
     },
     "execution_count": 1222,
     "metadata": {},
     "output_type": "execute_result"
    }
   ],
   "source": [
    "major_kalala_2_amounts = Amounts(major_kalala_2)\n",
    "print(f\"{major_kalala_2_amounts.sum_amounts()}/{major_kalala_2_amounts.estate}\")\n",
    "print(f\"{major_kalala_2_amounts.sum_shares()}/1\")\n",
    "major_kalala_2_amounts"
   ],
   "metadata": {
    "collapsed": false,
    "ExecuteTime": {
     "end_time": "2024-09-09T18:31:23.439984500Z",
     "start_time": "2024-09-09T18:31:23.256983300Z"
    }
   },
   "id": "df016021b3cd7b18",
   "execution_count": 1222
  },
  {
   "cell_type": "code",
   "outputs": [
    {
     "name": "stdout",
     "output_type": "stream",
     "text": [
      "24.0/24\n",
      "1/1\n"
     ]
    },
    {
     "data": {
      "text/plain": "husband (0): 0.00 (+0.00), wife (0): 0.00 (+0.00), sons (0): 0x0.00, daughters (0): 0x0.00 (+0.00), brothers (0): 0x0.00 (+0.00), sisters (1/2): 1x12.00 (+0.00), father (0): 0.00, mother (0): 0.00 (+0.00), relatives: 1x12.00"
     },
     "execution_count": 1223,
     "metadata": {},
     "output_type": "execute_result"
    }
   ],
   "source": [
    "major_kalala_3_amounts = Amounts(major_kalala_3)\n",
    "print(f\"{major_kalala_3_amounts.sum_amounts()}/{major_kalala_3_amounts.estate}\")\n",
    "print(f\"{major_kalala_3_amounts.sum_shares()}/1\")\n",
    "major_kalala_3_amounts"
   ],
   "metadata": {
    "collapsed": false,
    "ExecuteTime": {
     "end_time": "2024-09-09T18:31:23.533237100Z",
     "start_time": "2024-09-09T18:31:23.394596300Z"
    }
   },
   "id": "130c6fe518fc5bcf",
   "execution_count": 1223
  },
  {
   "cell_type": "code",
   "outputs": [
    {
     "name": "stdout",
     "output_type": "stream",
     "text": [
      "24.0/24\n",
      "1/1\n"
     ]
    },
    {
     "data": {
      "text/plain": "husband (0): 0.00 (+0.00), wife (0): 0.00 (+0.00), sons (0): 0x0.00, daughters (0): 0x0.00 (+0.00), brothers (0): 0x0.00 (+0.00), sisters (2/3): 2x8.00 (+0.00), father (0): 0.00, mother (0): 0.00 (+0.00), relatives: 1x8.00"
     },
     "execution_count": 1224,
     "metadata": {},
     "output_type": "execute_result"
    }
   ],
   "source": [
    "major_kalala_4_amounts = Amounts(major_kalala_4)\n",
    "print(f\"{major_kalala_4_amounts.sum_amounts()}/{major_kalala_4_amounts.estate}\")\n",
    "print(f\"{major_kalala_4_amounts.sum_shares()}/1\")\n",
    "major_kalala_4_amounts"
   ],
   "metadata": {
    "collapsed": false,
    "ExecuteTime": {
     "end_time": "2024-09-09T18:31:23.632725900Z",
     "start_time": "2024-09-09T18:31:23.485557500Z"
    }
   },
   "id": "74761a0a6c673465",
   "execution_count": 1224
  },
  {
   "cell_type": "code",
   "outputs": [
    {
     "name": "stdout",
     "output_type": "stream",
     "text": [
      "24.0/24\n",
      "1.0/1\n"
     ]
    },
    {
     "data": {
      "text/plain": "husband (0): 0.00 (+0.00), wife (0): 0.00 (+0.00), sons (0): 0x0.00, daughters (0): 0x0.00 (+0.00), brothers (0): 0x0.00 (+0.00), sisters (1): 3x8.00 (+0.00), father (0): 0.00, mother (0): 0.00 (+0.00), relatives: 0x0.00"
     },
     "execution_count": 1225,
     "metadata": {},
     "output_type": "execute_result"
    }
   ],
   "source": [
    "major_kalala_5_amounts = Amounts(major_kalala_5)\n",
    "print(f\"{major_kalala_5_amounts.sum_amounts()}/{major_kalala_5_amounts.estate}\")\n",
    "print(f\"{major_kalala_5_amounts.sum_shares()}/1\")\n",
    "major_kalala_5_amounts"
   ],
   "metadata": {
    "collapsed": false,
    "ExecuteTime": {
     "end_time": "2024-09-09T18:31:23.791199600Z",
     "start_time": "2024-09-09T18:31:23.619855900Z"
    }
   },
   "id": "417d3b8915d742e7",
   "execution_count": 1225
  },
  {
   "cell_type": "markdown",
   "source": [
    "# Problems from episode 21"
   ],
   "metadata": {
    "collapsed": false
   },
   "id": "28f5f18d17cc4423"
  },
  {
   "cell_type": "markdown",
   "source": [
    "## print_results()"
   ],
   "metadata": {
    "collapsed": false
   },
   "id": "2644a8c6043c4b8a"
  },
  {
   "cell_type": "code",
   "outputs": [],
   "source": [
    "def print_results(problem: Heirs):\n",
    "    print(get_case(problem))\n",
    "    problem_amounts = Amounts(problem)\n",
    "    print(f\"{problem_amounts.sum_amounts()}/{problem_amounts.estate}\")\n",
    "    print(f\"{problem_amounts.sum_shares()}/1\")\n",
    "    print(problem_amounts)"
   ],
   "metadata": {
    "collapsed": false,
    "ExecuteTime": {
     "end_time": "2024-09-09T18:31:23.906672700Z",
     "start_time": "2024-09-09T18:31:23.776034100Z"
    }
   },
   "id": "5d1f694095b14a8",
   "execution_count": 1226
  },
  {
   "cell_type": "markdown",
   "source": [
    "## Problem 1"
   ],
   "metadata": {
    "collapsed": false
   },
   "id": "c50f244e705182d4"
  },
  {
   "cell_type": "code",
   "outputs": [
    {
     "name": "stdout",
     "output_type": "stream",
     "text": [
      "Case.ADULTS_CASE\n",
      "24.0/24\n",
      "1/1\n",
      "husband (1/2): 12.00 (+0.00), wife (0): 0.00 (+0.00), sons (0): 0x0.00, daughters (0): 0x0.00 (+0.00), brothers (0): 0x0.00 (+0.00), sisters (0): 0x0.00 (+0.00), father (0): 0.00, mother (1/3): 8.00 (+4.00), relatives: 0x0.00\n"
     ]
    }
   ],
   "source": [
    "p1 = Heirs(husband=True, mother=True)\n",
    "print_results(p1)"
   ],
   "metadata": {
    "collapsed": false,
    "ExecuteTime": {
     "end_time": "2024-09-09T18:31:24.069836300Z",
     "start_time": "2024-09-09T18:31:23.908881300Z"
    }
   },
   "id": "db1319d3a8e77b70",
   "execution_count": 1227
  },
  {
   "cell_type": "markdown",
   "source": [
    "## Problem 2"
   ],
   "metadata": {
    "collapsed": false
   },
   "id": "19e9f5420587d204"
  },
  {
   "cell_type": "code",
   "outputs": [
    {
     "name": "stdout",
     "output_type": "stream",
     "text": [
      "Case.ADULTS_CASE\n",
      "24.0/24\n",
      "1/1\n",
      "husband (0): 0.00 (+0.00), wife (1/4): 6.00 (+0.00), sons (0): 0x0.00, daughters (0): 0x0.00 (+0.00), brothers (0): 0x0.00 (+0.00), sisters (0): 3x0.00 (+0.00), father (1/2): 12.00, mother (1/4): 6.00 (+0.00), relatives: 0x0.00\n"
     ]
    }
   ],
   "source": [
    "p2 = Heirs(wife=True, mother=True, father=True, sister=3)\n",
    "print_results(p2)"
   ],
   "metadata": {
    "collapsed": false,
    "ExecuteTime": {
     "end_time": "2024-09-09T18:31:24.124578800Z",
     "start_time": "2024-09-09T18:31:24.035862700Z"
    }
   },
   "id": "8d157766f08f2b95",
   "execution_count": 1228
  },
  {
   "cell_type": "markdown",
   "source": [
    "## Problem 3"
   ],
   "metadata": {
    "collapsed": false
   },
   "id": "5596ba4f4b49c1eb"
  },
  {
   "cell_type": "code",
   "outputs": [
    {
     "name": "stdout",
     "output_type": "stream",
     "text": [
      "Case.ADULTS_CASE\n",
      "24.0/24\n",
      "1/1\n",
      "husband (1/2): 12.00 (+0.00), wife (0): 0.00 (+0.00), sons (0): 0x0.00, daughters (0): 0x0.00 (+0.00), brothers (0): 0x0.00 (+0.00), sisters (1/3): 2x4.00 (+0.00), father (0): 0.00, mother (1/6): 4.00 (+0.00), relatives: 1x0.00\n"
     ]
    }
   ],
   "source": [
    "p3 = Heirs(husband=True, mother=True, sister=2, relatives=1)\n",
    "print_results(p3)"
   ],
   "metadata": {
    "collapsed": false,
    "ExecuteTime": {
     "end_time": "2024-09-09T18:31:24.269718200Z",
     "start_time": "2024-09-09T18:31:24.124578800Z"
    }
   },
   "id": "8335bc08b0806970",
   "execution_count": 1229
  },
  {
   "cell_type": "markdown",
   "source": [
    "## Problem 4"
   ],
   "metadata": {
    "collapsed": false
   },
   "id": "7bef6933e0a71834"
  },
  {
   "cell_type": "code",
   "outputs": [
    {
     "name": "stdout",
     "output_type": "stream",
     "text": [
      "Case.GENERAL_CASE\n",
      "24.0/24\n",
      "1/1\n",
      "husband (1/4): 6.00 (+0.00), wife (0): 0.00 (+0.00), sons (5/18): 1x6.67, daughters (5/36): 1x3.33 (+0.00), brothers (0): 3x0.00 (+0.00), sisters (0): 0x0.00 (+0.00), father (1/6): 4.00, mother (1/6): 4.00 (+0.00), relatives: 0x0.00\n"
     ]
    }
   ],
   "source": [
    "p4 = Heirs(husband=True, father=True, mother=True, brother=3, son=1, daughter=1)\n",
    "print_results(p4)"
   ],
   "metadata": {
    "collapsed": false,
    "ExecuteTime": {
     "end_time": "2024-09-09T18:31:24.300602800Z",
     "start_time": "2024-09-09T18:31:24.248662600Z"
    }
   },
   "id": "6c245924aab44f7b",
   "execution_count": 1230
  },
  {
   "cell_type": "markdown",
   "source": [
    "## Problem 5"
   ],
   "metadata": {
    "collapsed": false
   },
   "id": "712b8f278e930414"
  },
  {
   "cell_type": "code",
   "outputs": [
    {
     "name": "stdout",
     "output_type": "stream",
     "text": [
      "Case.GENERAL_CASE\n",
      "24.0/24\n",
      "1/1\n",
      "husband (1/4): 6.00 (+0.00), wife (0): 0.00 (+0.00), sons (0): 0x0.00, daughters (5/12): 2x5.00 (+0.00), brothers (0): 3x0.00 (+0.00), sisters (0): 0x0.00 (+0.00), father (1/6): 4.00, mother (1/6): 4.00 (+0.00), relatives: 1x0.00\n"
     ]
    }
   ],
   "source": [
    "p5 = Heirs(husband=True, father=True, mother=True, daughter=2, brother=3, relatives=1)\n",
    "print_results(p5)"
   ],
   "metadata": {
    "collapsed": false,
    "ExecuteTime": {
     "end_time": "2024-09-09T18:31:24.423942800Z",
     "start_time": "2024-09-09T18:31:24.285132Z"
    }
   },
   "id": "d0e375e6264a0255",
   "execution_count": 1231
  },
  {
   "cell_type": "markdown",
   "source": [
    "## Problem 6"
   ],
   "metadata": {
    "collapsed": false
   },
   "id": "15b0bffac8bf947d"
  },
  {
   "cell_type": "code",
   "outputs": [
    {
     "name": "stdout",
     "output_type": "stream",
     "text": [
      "Case.GENERAL_CASE\n",
      "24.0/24\n",
      "1/1\n",
      "husband (0): 0.00 (+0.00), wife (1/8): 3.00 (+0.00), sons (0): 0x0.00, daughters (7/8): 1x21.00 (+0.00), brothers (0): 5x0.00 (+0.00), sisters (0): 1x0.00 (+0.00), father (0): 0.00, mother (0): 0.00 (+0.00), relatives: 5x0.00\n"
     ]
    }
   ],
   "source": [
    "p6 = Heirs(wife=True, daughter=1, sister=1, brother=5, relatives=5)\n",
    "print_results(p6)"
   ],
   "metadata": {
    "collapsed": false,
    "ExecuteTime": {
     "end_time": "2024-09-09T18:31:24.507752600Z",
     "start_time": "2024-09-09T18:31:24.418505Z"
    }
   },
   "id": "da841b84637f333",
   "execution_count": 1232
  },
  {
   "cell_type": "markdown",
   "source": [
    "## Problem 7"
   ],
   "metadata": {
    "collapsed": false
   },
   "id": "adafa1f137db34bb"
  },
  {
   "cell_type": "code",
   "outputs": [
    {
     "name": "stdout",
     "output_type": "stream",
     "text": [
      "Case.MINOR_KALALA_CASE\n",
      "24.0/24\n",
      "1/1\n",
      "husband (0): 0.00 (+0.00), wife (0): 0.00 (+0.00), sons (0): 0x0.00, daughters (1/2): 1x12.00 (+0.00), brothers (0): 0x0.00 (+0.00), sisters (1/6): 1x4.00 (+8.00), father (0): 0.00, mother (0): 0.00 (+0.00), relatives: 0x0.00\n"
     ]
    }
   ],
   "source": [
    "p7 = Heirs(daughter=1, sister=1)\n",
    "print_results(p7)"
   ],
   "metadata": {
    "collapsed": false,
    "ExecuteTime": {
     "end_time": "2024-09-09T18:31:24.651240500Z",
     "start_time": "2024-09-09T18:31:24.467599700Z"
    }
   },
   "id": "71477c720b13eaee",
   "execution_count": 1233
  },
  {
   "cell_type": "markdown",
   "source": [
    "## Problem 8"
   ],
   "metadata": {
    "collapsed": false
   },
   "id": "49ce400825b90f57"
  },
  {
   "cell_type": "code",
   "outputs": [
    {
     "name": "stdout",
     "output_type": "stream",
     "text": [
      "Case.MINOR_KALALA_CASE\n",
      "24.0/24\n",
      "1/1\n",
      "husband (0): 0.00 (+0.00), wife (0): 0.00 (+0.00), sons (0): 0x0.00, daughters (2/3): 2x8.00 (+0.00), brothers (4/27): 4x0.89 (+0.00), sisters (5/27): 5x0.89 (+0.00), father (0): 0.00, mother (0): 0.00 (+0.00), relatives: 0x0.00\n"
     ]
    }
   ],
   "source": [
    "p8 = Heirs(daughter=2, sister=5, brother=4)\n",
    "print_results(p8)"
   ],
   "metadata": {
    "collapsed": false,
    "ExecuteTime": {
     "end_time": "2024-09-09T18:31:24.715710700Z",
     "start_time": "2024-09-09T18:31:24.619014300Z"
    }
   },
   "id": "e61158ffa22a8a14",
   "execution_count": 1234
  },
  {
   "cell_type": "markdown",
   "source": [
    "## Problem 9"
   ],
   "metadata": {
    "collapsed": false
   },
   "id": "48e558c47bf0fbaa"
  },
  {
   "cell_type": "code",
   "outputs": [
    {
     "name": "stdout",
     "output_type": "stream",
     "text": [
      "Case.MAJOR_KALALA_CASE\n",
      "24.0/24\n",
      "1/1\n",
      "husband (0): 0.00 (+0.00), wife (0): 0.00 (+0.00), sons (0): 0x0.00, daughters (0): 0x0.00 (+0.00), brothers (0): 0x0.00 (+0.00), sisters (2/3): 2x8.00 (+0.00), father (0): 0.00, mother (0): 0.00 (+0.00), relatives: 1x8.00\n"
     ]
    }
   ],
   "source": [
    "p9 = Heirs(sister=2, relatives=1)\n",
    "print_results(p9)"
   ],
   "metadata": {
    "collapsed": false,
    "ExecuteTime": {
     "end_time": "2024-09-09T18:31:24.855078100Z",
     "start_time": "2024-09-09T18:31:24.714618800Z"
    }
   },
   "id": "48bffdd51ed037c0",
   "execution_count": 1235
  },
  {
   "cell_type": "markdown",
   "source": [
    "## Problem 10"
   ],
   "metadata": {
    "collapsed": false
   },
   "id": "bda4fae9401398e6"
  },
  {
   "cell_type": "code",
   "outputs": [
    {
     "name": "stdout",
     "output_type": "stream",
     "text": [
      "Case.MAJOR_KALALA_CASE\n",
      "24.0/24\n",
      "1.0/1\n",
      "husband (0): 0.00 (+0.00), wife (0): 0.00 (+0.00), sons (0): 0x0.00, daughters (0): 0x0.00 (+0.00), brothers (0): 0x0.00 (+0.00), sisters (1): 3x8.00 (+0.00), father (0): 0.00, mother (0): 0.00 (+0.00), relatives: 1x0.00\n"
     ]
    }
   ],
   "source": [
    "p10 = Heirs(sister=3, relatives=1)\n",
    "print_results(p10)"
   ],
   "metadata": {
    "collapsed": false,
    "ExecuteTime": {
     "end_time": "2024-09-09T18:31:24.897049900Z",
     "start_time": "2024-09-09T18:31:24.836268500Z"
    }
   },
   "id": "3682cfc243b9bdac",
   "execution_count": 1236
  }
 ],
 "metadata": {
  "kernelspec": {
   "display_name": "Python 3",
   "language": "python",
   "name": "python3"
  },
  "language_info": {
   "codemirror_mode": {
    "name": "ipython",
    "version": 2
   },
   "file_extension": ".py",
   "mimetype": "text/x-python",
   "name": "python",
   "nbconvert_exporter": "python",
   "pygments_lexer": "ipython2",
   "version": "2.7.6"
  },
  "colab": {
   "provenance": []
  }
 },
 "nbformat": 4,
 "nbformat_minor": 5
}
